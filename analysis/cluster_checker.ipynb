{
 "cells": [
  {
   "cell_type": "code",
   "metadata": {
    "tags": [],
    "cell_id": "c54f4175-fe2b-47c9-989d-b91dbac13ea2",
    "deepnote_to_be_reexecuted": false,
    "source_hash": "5bd5aed",
    "execution_start": 1648263868823,
    "execution_millis": 3343,
    "deepnote_app_coordinates": {
     "x": 0,
     "y": null,
     "w": 12,
     "h": 5
    },
    "deepnote_cell_type": "code",
    "deepnote_cell_height": 297
   },
   "source": "import pandas as pd\nimport numpy as np\nimport matplotlib.pyplot as plt\nimport matplotlib\nfrom sklearn.metrics.pairwise import cosine_similarity\nfrom scipy.spatial.distance import euclidean, cityblock\nfrom scipy.spatial import minkowski_distance\nfrom math import log2, sqrt\nfrom sklearn.mixture import GaussianMixture\nfrom sklearn.preprocessing import StandardScaler, MinMaxScaler\n\nplt.style.use('https://gist.githubusercontent.com/peterphot/0d2645b0ced93c3cc71d31695ad1a5ae/raw/33cbe89d779b61ef5532272c5cdc0c1f2c56a357/matplotlibrc_dumbestwaytoconfigever')\nmatplotlib.rcParams['font.family'] = 'DejaVu Sans'",
   "outputs": [],
   "execution_count": null
  },
  {
   "cell_type": "code",
   "source": "\n\nvec_means_df = _deepnote_execute_sql(\"\"\"select\n    *\nfrom detect.vector_means\n\"\"\", 'SQL_52793694_A2B5_4D65_AC5F_FD0AE09C38F6')\nvec_means_df",
   "metadata": {
    "tags": [],
    "deepnote_variable_name": "vec_means_df",
    "sql_integration_id": "52793694-a2b5-4d65-ac5f-fd0ae09c38f6",
    "cell_id": "cc8ec3839f6340d4adec5f815b5b4a8b",
    "deepnote_to_be_reexecuted": false,
    "source_hash": "1eef9094",
    "execution_start": 1648263872174,
    "execution_millis": 4948,
    "deepnote_app_coordinates": {
     "x": 0,
     "y": 12,
     "w": 12,
     "h": 5
    },
    "deepnote_app_is_output_hidden": true,
    "deepnote_cell_type": "sql",
    "deepnote_sql_source": "select\n    *\nfrom detect.vector_means",
    "deepnote_cell_height": 510
   },
   "outputs": [
    {
     "output_type": "execute_result",
     "execution_count": 2,
     "data": {
      "application/vnd.deepnote.dataframe.v3+json": {
       "column_count": 13,
       "row_count": 6,
       "columns": [
        {
         "name": "cluster_id",
         "dtype": "int64",
         "stats": {
          "unique_count": 6,
          "nan_count": 0,
          "min": "0",
          "max": "5",
          "histogram": [
           {
            "bin_start": 0,
            "bin_end": 0.5,
            "count": 1
           },
           {
            "bin_start": 0.5,
            "bin_end": 1,
            "count": 0
           },
           {
            "bin_start": 1,
            "bin_end": 1.5,
            "count": 1
           },
           {
            "bin_start": 1.5,
            "bin_end": 2,
            "count": 0
           },
           {
            "bin_start": 2,
            "bin_end": 2.5,
            "count": 1
           },
           {
            "bin_start": 2.5,
            "bin_end": 3,
            "count": 0
           },
           {
            "bin_start": 3,
            "bin_end": 3.5,
            "count": 1
           },
           {
            "bin_start": 3.5,
            "bin_end": 4,
            "count": 0
           },
           {
            "bin_start": 4,
            "bin_end": 4.5,
            "count": 1
           },
           {
            "bin_start": 4.5,
            "bin_end": 5,
            "count": 1
           }
          ]
         }
        },
        {
         "name": "populate_cities_dropdown",
         "dtype": "float64",
         "stats": {
          "unique_count": 3,
          "nan_count": 0,
          "min": "0.0",
          "max": "0.27783053035884125",
          "histogram": [
           {
            "bin_start": 0,
            "bin_end": 0.027783053035884124,
            "count": 4
           },
           {
            "bin_start": 0.027783053035884124,
            "bin_end": 0.05556610607176825,
            "count": 0
           },
           {
            "bin_start": 0.05556610607176825,
            "bin_end": 0.08334915910765237,
            "count": 0
           },
           {
            "bin_start": 0.08334915910765237,
            "bin_end": 0.1111322121435365,
            "count": 0
           },
           {
            "bin_start": 0.1111322121435365,
            "bin_end": 0.13891526517942063,
            "count": 0
           },
           {
            "bin_start": 0.13891526517942063,
            "bin_end": 0.16669831821530473,
            "count": 0
           },
           {
            "bin_start": 0.16669831821530473,
            "bin_end": 0.19448137125118886,
            "count": 1
           },
           {
            "bin_start": 0.19448137125118886,
            "bin_end": 0.222264424287073,
            "count": 0
           },
           {
            "bin_start": 0.222264424287073,
            "bin_end": 0.2500474773229571,
            "count": 0
           },
           {
            "bin_start": 0.2500474773229571,
            "bin_end": 0.27783053035884125,
            "count": 1
           }
          ]
         }
        },
        {
         "name": "search_horse",
         "dtype": "float64",
         "stats": {
          "unique_count": 4,
          "nan_count": 0,
          "min": "0.0",
          "max": "0.30049143954303975",
          "histogram": [
           {
            "bin_start": 0,
            "bin_end": 0.030049143954303977,
            "count": 3
           },
           {
            "bin_start": 0.030049143954303977,
            "bin_end": 0.06009828790860795,
            "count": 0
           },
           {
            "bin_start": 0.06009828790860795,
            "bin_end": 0.09014743186291194,
            "count": 0
           },
           {
            "bin_start": 0.09014743186291194,
            "bin_end": 0.1201965758172159,
            "count": 0
           },
           {
            "bin_start": 0.1201965758172159,
            "bin_end": 0.15024571977151988,
            "count": 0
           },
           {
            "bin_start": 0.15024571977151988,
            "bin_end": 0.18029486372582387,
            "count": 1
           },
           {
            "bin_start": 0.18029486372582387,
            "bin_end": 0.21034400768012784,
            "count": 0
           },
           {
            "bin_start": 0.21034400768012784,
            "bin_end": 0.2403931516344318,
            "count": 1
           },
           {
            "bin_start": 0.2403931516344318,
            "bin_end": 0.2704422955887358,
            "count": 0
           },
           {
            "bin_start": 0.2704422955887358,
            "bin_end": 0.30049143954303975,
            "count": 1
           }
          ]
         }
        },
        {
         "name": "search_race_info",
         "dtype": "float64",
         "stats": {
          "unique_count": 3,
          "nan_count": 0,
          "min": "0.0",
          "max": "0.22282930054873004",
          "histogram": [
           {
            "bin_start": 0,
            "bin_end": 0.022282930054873005,
            "count": 4
           },
           {
            "bin_start": 0.022282930054873005,
            "bin_end": 0.04456586010974601,
            "count": 0
           },
           {
            "bin_start": 0.04456586010974601,
            "bin_end": 0.06684879016461902,
            "count": 0
           },
           {
            "bin_start": 0.06684879016461902,
            "bin_end": 0.08913172021949202,
            "count": 0
           },
           {
            "bin_start": 0.08913172021949202,
            "bin_end": 0.11141465027436502,
            "count": 0
           },
           {
            "bin_start": 0.11141465027436502,
            "bin_end": 0.13369758032923804,
            "count": 1
           },
           {
            "bin_start": 0.13369758032923804,
            "bin_end": 0.15598051038411104,
            "count": 0
           },
           {
            "bin_start": 0.15598051038411104,
            "bin_end": 0.17826344043898404,
            "count": 0
           },
           {
            "bin_start": 0.17826344043898404,
            "bin_end": 0.20054637049385704,
            "count": 0
           },
           {
            "bin_start": 0.20054637049385704,
            "bin_end": 0.22282930054873004,
            "count": 1
           }
          ]
         }
        },
        {
         "name": "search_race_result",
         "dtype": "float64",
         "stats": {
          "unique_count": 3,
          "nan_count": 0,
          "min": "0.0",
          "max": "0.0663380613600461",
          "histogram": [
           {
            "bin_start": 0,
            "bin_end": 0.006633806136004609,
            "count": 4
           },
           {
            "bin_start": 0.006633806136004609,
            "bin_end": 0.013267612272009219,
            "count": 0
           },
           {
            "bin_start": 0.013267612272009219,
            "bin_end": 0.019901418408013828,
            "count": 0
           },
           {
            "bin_start": 0.019901418408013828,
            "bin_end": 0.026535224544018438,
            "count": 0
           },
           {
            "bin_start": 0.026535224544018438,
            "bin_end": 0.03316903068002305,
            "count": 0
           },
           {
            "bin_start": 0.03316903068002305,
            "bin_end": 0.039802836816027656,
            "count": 0
           },
           {
            "bin_start": 0.039802836816027656,
            "bin_end": 0.046436642952032266,
            "count": 1
           },
           {
            "bin_start": 0.046436642952032266,
            "bin_end": 0.053070449088036875,
            "count": 0
           },
           {
            "bin_start": 0.053070449088036875,
            "bin_end": 0.059704255224041484,
            "count": 0
           },
           {
            "bin_start": 0.059704255224041484,
            "bin_end": 0.0663380613600461,
            "count": 1
           }
          ]
         }
        },
        {
         "name": "show_classes",
         "dtype": "float64",
         "stats": {
          "unique_count": 4,
          "nan_count": 0,
          "min": "0.0",
          "max": "0.08269728974064544",
          "histogram": [
           {
            "bin_start": 0,
            "bin_end": 0.008269728974064545,
            "count": 4
           },
           {
            "bin_start": 0.008269728974064545,
            "bin_end": 0.01653945794812909,
            "count": 0
           },
           {
            "bin_start": 0.01653945794812909,
            "bin_end": 0.024809186922193634,
            "count": 0
           },
           {
            "bin_start": 0.024809186922193634,
            "bin_end": 0.03307891589625818,
            "count": 1
           },
           {
            "bin_start": 0.03307891589625818,
            "bin_end": 0.04134864487032272,
            "count": 0
           },
           {
            "bin_start": 0.04134864487032272,
            "bin_end": 0.04961837384438727,
            "count": 0
           },
           {
            "bin_start": 0.04961837384438727,
            "bin_end": 0.05788810281845182,
            "count": 0
           },
           {
            "bin_start": 0.05788810281845182,
            "bin_end": 0.06615783179251636,
            "count": 0
           },
           {
            "bin_start": 0.06615783179251636,
            "bin_end": 0.0744275607665809,
            "count": 0
           },
           {
            "bin_start": 0.0744275607665809,
            "bin_end": 0.08269728974064544,
            "count": 1
           }
          ]
         }
        },
        {
         "name": "show_distances",
         "dtype": "float64",
         "stats": {
          "unique_count": 3,
          "nan_count": 0,
          "min": "0.0",
          "max": "0.09022529205234726",
          "histogram": [
           {
            "bin_start": 0,
            "bin_end": 0.009022529205234726,
            "count": 4
           },
           {
            "bin_start": 0.009022529205234726,
            "bin_end": 0.018045058410469453,
            "count": 0
           },
           {
            "bin_start": 0.018045058410469453,
            "bin_end": 0.02706758761570418,
            "count": 0
           },
           {
            "bin_start": 0.02706758761570418,
            "bin_end": 0.036090116820938906,
            "count": 1
           },
           {
            "bin_start": 0.036090116820938906,
            "bin_end": 0.04511264602617363,
            "count": 0
           },
           {
            "bin_start": 0.04511264602617363,
            "bin_end": 0.05413517523140836,
            "count": 0
           },
           {
            "bin_start": 0.05413517523140836,
            "bin_end": 0.06315770443664309,
            "count": 0
           },
           {
            "bin_start": 0.06315770443664309,
            "bin_end": 0.07218023364187781,
            "count": 0
           },
           {
            "bin_start": 0.07218023364187781,
            "bin_end": 0.08120276284711253,
            "count": 0
           },
           {
            "bin_start": 0.08120276284711253,
            "bin_end": 0.09022529205234726,
            "count": 1
           }
          ]
         }
        },
        {
         "name": "show_earnings",
         "dtype": "float64",
         "stats": {
          "unique_count": 4,
          "nan_count": 0,
          "min": "0.0",
          "max": "0.11492929459016935",
          "histogram": [
           {
            "bin_start": 0,
            "bin_end": 0.011492929459016935,
            "count": 4
           },
           {
            "bin_start": 0.011492929459016935,
            "bin_end": 0.02298585891803387,
            "count": 0
           },
           {
            "bin_start": 0.02298585891803387,
            "bin_end": 0.034478788377050804,
            "count": 0
           },
           {
            "bin_start": 0.034478788377050804,
            "bin_end": 0.04597171783606774,
            "count": 1
           },
           {
            "bin_start": 0.04597171783606774,
            "bin_end": 0.05746464729508467,
            "count": 0
           },
           {
            "bin_start": 0.05746464729508467,
            "bin_end": 0.06895757675410161,
            "count": 0
           },
           {
            "bin_start": 0.06895757675410161,
            "bin_end": 0.08045050621311854,
            "count": 0
           },
           {
            "bin_start": 0.08045050621311854,
            "bin_end": 0.09194343567213548,
            "count": 0
           },
           {
            "bin_start": 0.09194343567213548,
            "bin_end": 0.10343636513115241,
            "count": 0
           },
           {
            "bin_start": 0.10343636513115241,
            "bin_end": 0.11492929459016935,
            "count": 1
           }
          ]
         }
        },
        {
         "name": "show_places",
         "dtype": "float64",
         "stats": {
          "unique_count": 3,
          "nan_count": 0,
          "min": "0.0",
          "max": "0.08099532695643875",
          "histogram": [
           {
            "bin_start": 0,
            "bin_end": 0.008099532695643875,
            "count": 4
           },
           {
            "bin_start": 0.008099532695643875,
            "bin_end": 0.01619906539128775,
            "count": 0
           },
           {
            "bin_start": 0.01619906539128775,
            "bin_end": 0.024298598086931626,
            "count": 0
           },
           {
            "bin_start": 0.024298598086931626,
            "bin_end": 0.0323981307825755,
            "count": 0
           },
           {
            "bin_start": 0.0323981307825755,
            "bin_end": 0.04049766347821938,
            "count": 1
           },
           {
            "bin_start": 0.04049766347821938,
            "bin_end": 0.04859719617386325,
            "count": 0
           },
           {
            "bin_start": 0.04859719617386325,
            "bin_end": 0.05669672886950713,
            "count": 0
           },
           {
            "bin_start": 0.05669672886950713,
            "bin_end": 0.064796261565151,
            "count": 0
           },
           {
            "bin_start": 0.064796261565151,
            "bin_end": 0.07289579426079487,
            "count": 0
           },
           {
            "bin_start": 0.07289579426079487,
            "bin_end": 0.08099532695643875,
            "count": 1
           }
          ]
         }
        },
        {
         "name": "show_start_gates",
         "dtype": "float64",
         "stats": {
          "unique_count": 4,
          "nan_count": 0,
          "min": "0.0",
          "max": "0.07981799341281998",
          "histogram": [
           {
            "bin_start": 0,
            "bin_end": 0.007981799341281997,
            "count": 3
           },
           {
            "bin_start": 0.007981799341281997,
            "bin_end": 0.015963598682563994,
            "count": 1
           },
           {
            "bin_start": 0.015963598682563994,
            "bin_end": 0.02394539802384599,
            "count": 1
           },
           {
            "bin_start": 0.02394539802384599,
            "bin_end": 0.03192719736512799,
            "count": 0
           },
           {
            "bin_start": 0.03192719736512799,
            "bin_end": 0.03990899670640999,
            "count": 0
           },
           {
            "bin_start": 0.03990899670640999,
            "bin_end": 0.04789079604769198,
            "count": 0
           },
           {
            "bin_start": 0.04789079604769198,
            "bin_end": 0.055872595388973975,
            "count": 0
           },
           {
            "bin_start": 0.055872595388973975,
            "bin_end": 0.06385439473025598,
            "count": 0
           },
           {
            "bin_start": 0.06385439473025598,
            "bin_end": 0.07183619407153798,
            "count": 0
           },
           {
            "bin_start": 0.07183619407153798,
            "bin_end": 0.07981799341281998,
            "count": 1
           }
          ]
         }
        },
        {
         "name": "view_horses",
         "dtype": "float64",
         "stats": {
          "unique_count": 6,
          "nan_count": 0,
          "min": "0.0",
          "max": "0.9999999999999994",
          "histogram": [
           {
            "bin_start": 0,
            "bin_end": 0.09999999999999995,
            "count": 3
           },
           {
            "bin_start": 0.09999999999999995,
            "bin_end": 0.1999999999999999,
            "count": 2
           },
           {
            "bin_start": 0.1999999999999999,
            "bin_end": 0.2999999999999998,
            "count": 0
           },
           {
            "bin_start": 0.2999999999999998,
            "bin_end": 0.3999999999999998,
            "count": 0
           },
           {
            "bin_start": 0.3999999999999998,
            "bin_end": 0.4999999999999998,
            "count": 0
           },
           {
            "bin_start": 0.4999999999999998,
            "bin_end": 0.5999999999999996,
            "count": 0
           },
           {
            "bin_start": 0.5999999999999996,
            "bin_end": 0.6999999999999996,
            "count": 0
           },
           {
            "bin_start": 0.6999999999999996,
            "bin_end": 0.7999999999999996,
            "count": 0
           },
           {
            "bin_start": 0.7999999999999996,
            "bin_end": 0.8999999999999996,
            "count": 0
           },
           {
            "bin_start": 0.8999999999999996,
            "bin_end": 0.9999999999999994,
            "count": 1
           }
          ]
         }
        },
        {
         "name": "view_index",
         "dtype": "float64",
         "stats": {
          "unique_count": 5,
          "nan_count": 0,
          "min": "0.0",
          "max": "0.8499989398053547",
          "histogram": [
           {
            "bin_start": 0,
            "bin_end": 0.08499989398053547,
            "count": 4
           },
           {
            "bin_start": 0.08499989398053547,
            "bin_end": 0.16999978796107093,
            "count": 1
           },
           {
            "bin_start": 0.16999978796107093,
            "bin_end": 0.2549996819416064,
            "count": 0
           },
           {
            "bin_start": 0.2549996819416064,
            "bin_end": 0.33999957592214186,
            "count": 0
           },
           {
            "bin_start": 0.33999957592214186,
            "bin_end": 0.42499946990267734,
            "count": 0
           },
           {
            "bin_start": 0.42499946990267734,
            "bin_end": 0.5099993638832128,
            "count": 0
           },
           {
            "bin_start": 0.5099993638832128,
            "bin_end": 0.5949992578637483,
            "count": 0
           },
           {
            "bin_start": 0.5949992578637483,
            "bin_end": 0.6799991518442837,
            "count": 0
           },
           {
            "bin_start": 0.6799991518442837,
            "bin_end": 0.7649990458248191,
            "count": 0
           },
           {
            "bin_start": 0.7649990458248191,
            "bin_end": 0.8499989398053547,
            "count": 1
           }
          ]
         }
        },
        {
         "name": "view_races",
         "dtype": "float64",
         "stats": {
          "unique_count": 4,
          "nan_count": 0,
          "min": "0.0",
          "max": "0.9999999999999996",
          "histogram": [
           {
            "bin_start": 0,
            "bin_end": 0.09999999999999995,
            "count": 5
           },
           {
            "bin_start": 0.09999999999999995,
            "bin_end": 0.1999999999999999,
            "count": 0
           },
           {
            "bin_start": 0.1999999999999999,
            "bin_end": 0.2999999999999998,
            "count": 0
           },
           {
            "bin_start": 0.2999999999999998,
            "bin_end": 0.3999999999999998,
            "count": 0
           },
           {
            "bin_start": 0.3999999999999998,
            "bin_end": 0.4999999999999998,
            "count": 0
           },
           {
            "bin_start": 0.4999999999999998,
            "bin_end": 0.5999999999999996,
            "count": 0
           },
           {
            "bin_start": 0.5999999999999996,
            "bin_end": 0.6999999999999996,
            "count": 0
           },
           {
            "bin_start": 0.6999999999999996,
            "bin_end": 0.7999999999999996,
            "count": 0
           },
           {
            "bin_start": 0.7999999999999996,
            "bin_end": 0.8999999999999996,
            "count": 0
           },
           {
            "bin_start": 0.8999999999999996,
            "bin_end": 0.9999999999999996,
            "count": 1
           }
          ]
         }
        },
        {
         "name": "_deepnote_index_column",
         "dtype": "int64"
        }
       ],
       "rows": [
        {
         "cluster_id": 0,
         "populate_cities_dropdown": 0,
         "search_horse": 0,
         "search_race_info": 0,
         "search_race_result": 0,
         "show_classes": 0,
         "show_distances": 0,
         "show_earnings": 0,
         "show_places": 0,
         "show_start_gates": 0,
         "view_horses": 0.15000106019464485,
         "view_index": 0.8499989398053547,
         "view_races": 0,
         "_deepnote_index_column": 0
        },
        {
         "cluster_id": 1,
         "populate_cities_dropdown": 0.27783053035884125,
         "search_horse": 0.17451142958343274,
         "search_race_info": 0.22282930054873004,
         "search_race_result": 0.0663380613600461,
         "show_classes": 0.003389730029454793,
         "show_distances": 0,
         "show_earnings": 0.003800304426340805,
         "show_places": 0,
         "show_start_gates": 0.009427340547777151,
         "view_horses": 0.06985210474002515,
         "view_index": 0.0802857625234001,
         "view_races": 0.09173543588195177,
         "_deepnote_index_column": 1
        },
        {
         "cluster_id": 2,
         "populate_cities_dropdown": 0,
         "search_horse": 0,
         "search_race_info": 0,
         "search_race_result": 0,
         "show_classes": 0,
         "show_distances": 0,
         "show_earnings": 0,
         "show_places": 0,
         "show_start_gates": 0,
         "view_horses": 0,
         "view_index": 0,
         "view_races": 0.9999999999999996,
         "_deepnote_index_column": 2
        },
        {
         "cluster_id": 3,
         "populate_cities_dropdown": 0,
         "search_horse": 0.30049143954303975,
         "search_race_info": 0,
         "search_race_result": 0,
         "show_classes": 0.08269728974064544,
         "show_distances": 0.09022529205234726,
         "show_earnings": 0.11492929459016935,
         "show_places": 0.08099532695643875,
         "show_start_gates": 0.07981799341281998,
         "view_horses": 0.13102417851102632,
         "view_index": 0.11981918519351292,
         "view_races": 0,
         "_deepnote_index_column": 3
        },
        {
         "cluster_id": 4,
         "populate_cities_dropdown": 0,
         "search_horse": 0,
         "search_race_info": 0,
         "search_race_result": 0,
         "show_classes": 0,
         "show_distances": 0,
         "show_earnings": 0,
         "show_places": 0,
         "show_start_gates": 0,
         "view_horses": 0.9999999999999994,
         "view_index": 0,
         "view_races": 0,
         "_deepnote_index_column": 4
        },
        {
         "cluster_id": 5,
         "populate_cities_dropdown": 0.1806290855429446,
         "search_horse": 0.23114475884291802,
         "search_race_info": 0.12396353093674731,
         "search_race_result": 0.04571234445300632,
         "show_classes": 0.027581884272383898,
         "show_distances": 0.03518344541553572,
         "show_earnings": 0.04485717305447333,
         "show_places": 0.03801892104253882,
         "show_start_gates": 0.023541444142918002,
         "view_horses": 0.09001074331692564,
         "view_index": 0.0745557426928684,
         "view_races": 0.08480092628673966,
         "_deepnote_index_column": 5
        }
       ]
      },
      "text/plain": "   cluster_id  populate_cities_dropdown  search_horse  search_race_info  \\\n0           0                  0.000000      0.000000          0.000000   \n1           1                  0.277831      0.174511          0.222829   \n2           2                  0.000000      0.000000          0.000000   \n3           3                  0.000000      0.300491          0.000000   \n4           4                  0.000000      0.000000          0.000000   \n5           5                  0.180629      0.231145          0.123964   \n\n   search_race_result  show_classes  show_distances  show_earnings  \\\n0            0.000000      0.000000        0.000000       0.000000   \n1            0.066338      0.003390        0.000000       0.003800   \n2            0.000000      0.000000        0.000000       0.000000   \n3            0.000000      0.082697        0.090225       0.114929   \n4            0.000000      0.000000        0.000000       0.000000   \n5            0.045712      0.027582        0.035183       0.044857   \n\n   show_places  show_start_gates  view_horses  view_index  view_races  \n0     0.000000          0.000000     0.150001    0.849999    0.000000  \n1     0.000000          0.009427     0.069852    0.080286    0.091735  \n2     0.000000          0.000000     0.000000    0.000000    1.000000  \n3     0.080995          0.079818     0.131024    0.119819    0.000000  \n4     0.000000          0.000000     1.000000    0.000000    0.000000  \n5     0.038019          0.023541     0.090011    0.074556    0.084801  ",
      "text/html": "<div>\n<style scoped>\n    .dataframe tbody tr th:only-of-type {\n        vertical-align: middle;\n    }\n\n    .dataframe tbody tr th {\n        vertical-align: top;\n    }\n\n    .dataframe thead th {\n        text-align: right;\n    }\n</style>\n<table border=\"1\" class=\"dataframe\">\n  <thead>\n    <tr style=\"text-align: right;\">\n      <th></th>\n      <th>cluster_id</th>\n      <th>populate_cities_dropdown</th>\n      <th>search_horse</th>\n      <th>search_race_info</th>\n      <th>search_race_result</th>\n      <th>show_classes</th>\n      <th>show_distances</th>\n      <th>show_earnings</th>\n      <th>show_places</th>\n      <th>show_start_gates</th>\n      <th>view_horses</th>\n      <th>view_index</th>\n      <th>view_races</th>\n    </tr>\n  </thead>\n  <tbody>\n    <tr>\n      <th>0</th>\n      <td>0</td>\n      <td>0.000000</td>\n      <td>0.000000</td>\n      <td>0.000000</td>\n      <td>0.000000</td>\n      <td>0.000000</td>\n      <td>0.000000</td>\n      <td>0.000000</td>\n      <td>0.000000</td>\n      <td>0.000000</td>\n      <td>0.150001</td>\n      <td>0.849999</td>\n      <td>0.000000</td>\n    </tr>\n    <tr>\n      <th>1</th>\n      <td>1</td>\n      <td>0.277831</td>\n      <td>0.174511</td>\n      <td>0.222829</td>\n      <td>0.066338</td>\n      <td>0.003390</td>\n      <td>0.000000</td>\n      <td>0.003800</td>\n      <td>0.000000</td>\n      <td>0.009427</td>\n      <td>0.069852</td>\n      <td>0.080286</td>\n      <td>0.091735</td>\n    </tr>\n    <tr>\n      <th>2</th>\n      <td>2</td>\n      <td>0.000000</td>\n      <td>0.000000</td>\n      <td>0.000000</td>\n      <td>0.000000</td>\n      <td>0.000000</td>\n      <td>0.000000</td>\n      <td>0.000000</td>\n      <td>0.000000</td>\n      <td>0.000000</td>\n      <td>0.000000</td>\n      <td>0.000000</td>\n      <td>1.000000</td>\n    </tr>\n    <tr>\n      <th>3</th>\n      <td>3</td>\n      <td>0.000000</td>\n      <td>0.300491</td>\n      <td>0.000000</td>\n      <td>0.000000</td>\n      <td>0.082697</td>\n      <td>0.090225</td>\n      <td>0.114929</td>\n      <td>0.080995</td>\n      <td>0.079818</td>\n      <td>0.131024</td>\n      <td>0.119819</td>\n      <td>0.000000</td>\n    </tr>\n    <tr>\n      <th>4</th>\n      <td>4</td>\n      <td>0.000000</td>\n      <td>0.000000</td>\n      <td>0.000000</td>\n      <td>0.000000</td>\n      <td>0.000000</td>\n      <td>0.000000</td>\n      <td>0.000000</td>\n      <td>0.000000</td>\n      <td>0.000000</td>\n      <td>1.000000</td>\n      <td>0.000000</td>\n      <td>0.000000</td>\n    </tr>\n    <tr>\n      <th>5</th>\n      <td>5</td>\n      <td>0.180629</td>\n      <td>0.231145</td>\n      <td>0.123964</td>\n      <td>0.045712</td>\n      <td>0.027582</td>\n      <td>0.035183</td>\n      <td>0.044857</td>\n      <td>0.038019</td>\n      <td>0.023541</td>\n      <td>0.090011</td>\n      <td>0.074556</td>\n      <td>0.084801</td>\n    </tr>\n  </tbody>\n</table>\n</div>"
     },
     "metadata": {}
    }
   ],
   "execution_count": null
  },
  {
   "cell_type": "code",
   "source": "vec_means_df = vec_means_df.set_index('cluster_id')",
   "metadata": {
    "cell_id": "de2bab5cf2a94592a95450b7dcd0d6dc",
    "tags": [],
    "deepnote_to_be_reexecuted": false,
    "source_hash": "cc036fa",
    "execution_start": 1648263877133,
    "execution_millis": 6,
    "deepnote_app_coordinates": {
     "x": 0,
     "y": 18,
     "w": 12,
     "h": 5
    },
    "deepnote_cell_type": "code",
    "deepnote_cell_height": 81
   },
   "outputs": [],
   "execution_count": null
  },
  {
   "cell_type": "markdown",
   "source": "This next query would be replaced with the data from the user we are trying to match. The cluster this is in should be unknown",
   "metadata": {
    "cell_id": "7db2079b3bfc4c0a9c0e3ed4a6664a64",
    "tags": [],
    "deepnote_app_coordinates": {
     "x": 0,
     "y": 54,
     "w": 12,
     "h": 5
    },
    "deepnote_cell_type": "markdown",
    "deepnote_cell_height": 74.78125
   }
  },
  {
   "cell_type": "code",
   "source": "\n\nmatching_df = _deepnote_execute_sql(\"\"\"select\n    *\nfrom detect.array_vectors\nwhere true\n\"\"\", 'SQL_52793694_A2B5_4D65_AC5F_FD0AE09C38F6')\nmatching_df",
   "metadata": {
    "tags": [],
    "deepnote_variable_name": "matching_df",
    "sql_integration_id": "52793694-a2b5-4d65-ac5f-fd0ae09c38f6",
    "cell_id": "76524d2477fc4877b0d30a3531f86246",
    "deepnote_to_be_reexecuted": false,
    "source_hash": "1bcb15b4",
    "execution_start": 1648263877150,
    "execution_millis": 5166,
    "deepnote_app_coordinates": {
     "x": 0,
     "y": 30,
     "w": 12,
     "h": 5
    },
    "deepnote_app_is_output_hidden": true,
    "deepnote_cell_type": "sql",
    "deepnote_sql_source": "select\n    *\nfrom detect.array_vectors\nwhere true",
    "deepnote_cell_height": 692
   },
   "outputs": [
    {
     "output_type": "execute_result",
     "execution_count": 4,
     "data": {
      "application/vnd.deepnote.dataframe.v3+json": {
       "column_count": 5,
       "row_count": 206,
       "columns": [
        {
         "name": "session_id",
         "dtype": "object",
         "stats": {
          "unique_count": 206,
          "nan_count": 0,
          "categories": [
           {
            "name": "02db048aaab07793c2165c37b7539e79",
            "count": 1
           },
           {
            "name": "072306ca06752fd860948de351af0420",
            "count": 1
           },
           {
            "name": "204 others",
            "count": 204
           }
          ]
         }
        },
        {
         "name": "source_ip",
         "dtype": "object",
         "stats": {
          "unique_count": 24,
          "nan_count": 0,
          "categories": [
           {
            "name": "149.167.134.218",
            "count": 156
           },
           {
            "name": "49.195.12.175",
            "count": 20
           },
           {
            "name": "22 others",
            "count": 30
           }
          ]
         }
        },
        {
         "name": "event_name_vector",
         "dtype": "object",
         "stats": {
          "unique_count": 206,
          "nan_count": 0,
          "categories": [
           {
            "name": "['populate_cities_dropdown', 'search_horse', 'search_race_info', 'search_race_result', 'show_classes', 'show_distances', 'show_earnings', 'show_places', 'show_start_gates', 'view_horses', 'view_index', 'view_races']",
            "count": 206
           }
          ]
         }
        },
        {
         "name": "prop_vector",
         "dtype": "object",
         "stats": {
          "unique_count": 206,
          "nan_count": 0,
          "categories": [
           {
            "name": "[0.0, 0.0, 0.0, 0.0, 0.0, 0.0, 0.0, 0.0, 0.0, 0.0, 0.0, 1.0]",
            "count": 5
           },
           {
            "name": "[0.0, 0.4, 0.0, 0.0, 0.0, 0.0, 0.2, 0.0, 0.0, 0.2, 0.2, 0.0]",
            "count": 4
           },
           {
            "name": "168 others",
            "count": 197
           }
          ]
         }
        },
        {
         "name": "n_vector",
         "dtype": "object",
         "stats": {
          "unique_count": 206,
          "nan_count": 0,
          "categories": [
           {
            "name": "[0, 0, 0, 0, 0, 0, 0, 0, 0, 0, 0, 1]",
            "count": 5
           },
           {
            "name": "[0, 2, 0, 0, 0, 0, 1, 0, 0, 1, 1, 0]",
            "count": 4
           },
           {
            "name": "169 others",
            "count": 197
           }
          ]
         }
        },
        {
         "name": "_deepnote_index_column",
         "dtype": "int64"
        }
       ],
       "rows": [
        {
         "session_id": "02db048aaab07793c2165c37b7539e79",
         "source_ip": "149.167.134.218",
         "event_name_vector": "['populate_cities_dropdown', 'search_horse', 'search_race_info', 'search_race_result', 'show_classes', 'show_distances', 'show_earnings', 'show_places', 'show_start_gates', 'view_horses', 'view_index', 'view_races']",
         "prop_vector": "[0.0, 0.4, 0.0, 0.0, 0.0, 0.0, 0.2, 0.0, 0.0, 0.2, 0.2, 0.0]",
         "n_vector": "[0, 2, 0, 0, 0, 0, 1, 0, 0, 1, 1, 0]",
         "_deepnote_index_column": 0
        },
        {
         "session_id": "072306ca06752fd860948de351af0420",
         "source_ip": "149.167.134.218",
         "event_name_vector": "['populate_cities_dropdown', 'search_horse', 'search_race_info', 'search_race_result', 'show_classes', 'show_distances', 'show_earnings', 'show_places', 'show_start_gates', 'view_horses', 'view_index', 'view_races']",
         "prop_vector": "[0.1111111111111111, 0.2222222222222222, 0.1111111111111111, 0.1111111111111111, 0.0, 0.0, 0.1111111111111111, 0.0, 0.0, 0.1111111111111111, 0.1111111111111111, 0.1111111111111111]",
         "n_vector": "[1, 2, 1, 1, 0, 0, 1, 0, 0, 1, 1, 1]",
         "_deepnote_index_column": 1
        },
        {
         "session_id": "079d831c61ec7fea769dbf1101ac88b8",
         "source_ip": "149.167.134.218",
         "event_name_vector": "['populate_cities_dropdown', 'search_horse', 'search_race_info', 'search_race_result', 'show_classes', 'show_distances', 'show_earnings', 'show_places', 'show_start_gates', 'view_horses', 'view_index', 'view_races']",
         "prop_vector": "[0.0, 0.4, 0.0, 0.0, 0.2, 0.0, 0.0, 0.0, 0.0, 0.2, 0.2, 0.0]",
         "n_vector": "[0, 2, 0, 0, 1, 0, 0, 0, 0, 1, 1, 0]",
         "_deepnote_index_column": 2
        },
        {
         "session_id": "07eaa3e7d914bee1a42eb0301ca65f09",
         "source_ip": "220.244.53.30",
         "event_name_vector": "['populate_cities_dropdown', 'search_horse', 'search_race_info', 'search_race_result', 'show_classes', 'show_distances', 'show_earnings', 'show_places', 'show_start_gates', 'view_horses', 'view_index', 'view_races']",
         "prop_vector": "[0.0, 0.3333333333333333, 0.0, 0.0, 0.0, 0.0, 0.3333333333333333, 0.0, 0.0, 0.3333333333333333, 0.0, 0.0]",
         "n_vector": "[0, 1, 0, 0, 0, 0, 1, 0, 0, 1, 0, 0]",
         "_deepnote_index_column": 3
        },
        {
         "session_id": "082b18bb7c35d05b34a68ef964d176f8",
         "source_ip": "149.167.134.218",
         "event_name_vector": "['populate_cities_dropdown', 'search_horse', 'search_race_info', 'search_race_result', 'show_classes', 'show_distances', 'show_earnings', 'show_places', 'show_start_gates', 'view_horses', 'view_index', 'view_races']",
         "prop_vector": "[0.07142857142857142, 0.35714285714285715, 0.05357142857142857, 0.03571428571428571, 0.017857142857142856, 0.03571428571428571, 0.19642857142857142, 0.03571428571428571, 0.07142857142857142, 0.05357142857142857, 0.05357142857142857, 0.017857142857142856]",
         "n_vector": "[4, 20, 3, 2, 1, 2, 11, 2, 4, 3, 3, 1]",
         "_deepnote_index_column": 4
        },
        {
         "session_id": "096a9fb840e68409730028469979fc63",
         "source_ip": "203.206.185.203",
         "event_name_vector": "['populate_cities_dropdown', 'search_horse', 'search_race_info', 'search_race_result', 'show_classes', 'show_distances', 'show_earnings', 'show_places', 'show_start_gates', 'view_horses', 'view_index', 'view_races']",
         "prop_vector": "[0.25, 0.0, 0.25, 0.0, 0.0, 0.0, 0.0, 0.0, 0.0, 0.0, 0.25, 0.25]",
         "n_vector": "[1, 0, 1, 0, 0, 0, 0, 0, 0, 0, 1, 1]",
         "_deepnote_index_column": 5
        },
        {
         "session_id": "09e4caad701a5fd0e9a190233039cbc7",
         "source_ip": "49.195.7.190",
         "event_name_vector": "['populate_cities_dropdown', 'search_horse', 'search_race_info', 'search_race_result', 'show_classes', 'show_distances', 'show_earnings', 'show_places', 'show_start_gates', 'view_horses', 'view_index', 'view_races']",
         "prop_vector": "[0.0, 0.0, 0.0, 0.0, 0.0, 0.0, 0.0, 0.0, 0.0, 0.5, 0.5, 0.0]",
         "n_vector": "[0, 0, 0, 0, 0, 0, 0, 0, 0, 1, 1, 0]",
         "_deepnote_index_column": 6
        },
        {
         "session_id": "0a2a8915ab73734ef0f1e7e75516b421",
         "source_ip": "49.181.141.159",
         "event_name_vector": "['populate_cities_dropdown', 'search_horse', 'search_race_info', 'search_race_result', 'show_classes', 'show_distances', 'show_earnings', 'show_places', 'show_start_gates', 'view_horses', 'view_index', 'view_races']",
         "prop_vector": "[0.0, 0.6111111111111112, 0.0, 0.0, 0.05555555555555555, 0.05555555555555555, 0.05555555555555555, 0.05555555555555555, 0.05555555555555555, 0.05555555555555555, 0.05555555555555555, 0.0]",
         "n_vector": "[0, 11, 0, 0, 1, 1, 1, 1, 1, 1, 1, 0]",
         "_deepnote_index_column": 7
        },
        {
         "session_id": "0cb6225f8231cd1bb71523b570b6e4c9",
         "source_ip": "149.167.134.218",
         "event_name_vector": "['populate_cities_dropdown', 'search_horse', 'search_race_info', 'search_race_result', 'show_classes', 'show_distances', 'show_earnings', 'show_places', 'show_start_gates', 'view_horses', 'view_index', 'view_races']",
         "prop_vector": "[0.0, 0.0, 0.0, 0.0, 0.0, 0.0, 0.0, 0.0, 0.0, 0.0, 1.0, 0.0]",
         "n_vector": "[0, 0, 0, 0, 0, 0, 0, 0, 0, 0, 1, 0]",
         "_deepnote_index_column": 8
        },
        {
         "session_id": "0e7513cb9103f32e1d6ef7b90958726c",
         "source_ip": "149.167.134.218",
         "event_name_vector": "['populate_cities_dropdown', 'search_horse', 'search_race_info', 'search_race_result', 'show_classes', 'show_distances', 'show_earnings', 'show_places', 'show_start_gates', 'view_horses', 'view_index', 'view_races']",
         "prop_vector": "[0.3333333333333333, 0.0, 0.3333333333333333, 0.3333333333333333, 0.0, 0.0, 0.0, 0.0, 0.0, 0.0, 0.0, 0.0]",
         "n_vector": "[1, 0, 1, 1, 0, 0, 0, 0, 0, 0, 0, 0]",
         "_deepnote_index_column": 9
        }
       ]
      },
      "text/plain": "                           session_id        source_ip  \\\n0    02db048aaab07793c2165c37b7539e79  149.167.134.218   \n1    072306ca06752fd860948de351af0420  149.167.134.218   \n2    079d831c61ec7fea769dbf1101ac88b8  149.167.134.218   \n3    07eaa3e7d914bee1a42eb0301ca65f09    220.244.53.30   \n4    082b18bb7c35d05b34a68ef964d176f8  149.167.134.218   \n..                                ...              ...   \n201  f3f1c3a505b79a235fff50c88d666cf4  149.167.134.218   \n202  f648c3416d0e80cceecbc8081ddb7e1a  149.167.134.218   \n203  f7d429ae114c4ff09d8476e0f8fe91c7  149.167.134.218   \n204  f939175edf8f72a845a729c3bab39787  149.167.134.218   \n205  fd2628d14966362482b8ed11c0c643f2  149.167.134.218   \n\n                                     event_name_vector  \\\n0    [populate_cities_dropdown, search_horse, searc...   \n1    [populate_cities_dropdown, search_horse, searc...   \n2    [populate_cities_dropdown, search_horse, searc...   \n3    [populate_cities_dropdown, search_horse, searc...   \n4    [populate_cities_dropdown, search_horse, searc...   \n..                                                 ...   \n201  [populate_cities_dropdown, search_horse, searc...   \n202  [populate_cities_dropdown, search_horse, searc...   \n203  [populate_cities_dropdown, search_horse, searc...   \n204  [populate_cities_dropdown, search_horse, searc...   \n205  [populate_cities_dropdown, search_horse, searc...   \n\n                                           prop_vector  \\\n0    [0.0, 0.4, 0.0, 0.0, 0.0, 0.0, 0.2, 0.0, 0.0, ...   \n1    [0.1111111111111111, 0.2222222222222222, 0.111...   \n2    [0.0, 0.4, 0.0, 0.0, 0.2, 0.0, 0.0, 0.0, 0.0, ...   \n3    [0.0, 0.3333333333333333, 0.0, 0.0, 0.0, 0.0, ...   \n4    [0.07142857142857142, 0.35714285714285715, 0.0...   \n..                                                 ...   \n201  [0.0, 0.25, 0.0, 0.0, 0.1875, 0.0, 0.1875, 0.1...   \n202  [0.34782608695652173, 0.17391304347826086, 0.2...   \n203  [0.0, 0.2222222222222222, 0.0, 0.0, 0.33333333...   \n204  [0.0, 0.25, 0.0, 0.0, 0.125, 0.0, 0.0, 0.0, 0....   \n205  [0.35294117647058826, 0.23529411764705882, 0.2...   \n\n                                   n_vector  \n0      [0, 2, 0, 0, 0, 0, 1, 0, 0, 1, 1, 0]  \n1      [1, 2, 1, 1, 0, 0, 1, 0, 0, 1, 1, 1]  \n2      [0, 2, 0, 0, 1, 0, 0, 0, 0, 1, 1, 0]  \n3      [0, 1, 0, 0, 0, 0, 1, 0, 0, 1, 0, 0]  \n4    [4, 20, 3, 2, 1, 2, 11, 2, 4, 3, 3, 1]  \n..                                      ...  \n201    [0, 4, 0, 0, 3, 0, 3, 2, 2, 1, 1, 0]  \n202    [8, 4, 5, 1, 1, 0, 1, 0, 0, 1, 1, 1]  \n203    [0, 2, 0, 0, 3, 0, 0, 0, 2, 1, 1, 0]  \n204    [0, 2, 0, 0, 1, 0, 0, 0, 3, 1, 1, 0]  \n205    [6, 4, 4, 0, 0, 0, 0, 0, 0, 1, 1, 1]  \n\n[206 rows x 5 columns]",
      "text/html": "<div>\n<style scoped>\n    .dataframe tbody tr th:only-of-type {\n        vertical-align: middle;\n    }\n\n    .dataframe tbody tr th {\n        vertical-align: top;\n    }\n\n    .dataframe thead th {\n        text-align: right;\n    }\n</style>\n<table border=\"1\" class=\"dataframe\">\n  <thead>\n    <tr style=\"text-align: right;\">\n      <th></th>\n      <th>session_id</th>\n      <th>source_ip</th>\n      <th>event_name_vector</th>\n      <th>prop_vector</th>\n      <th>n_vector</th>\n    </tr>\n  </thead>\n  <tbody>\n    <tr>\n      <th>0</th>\n      <td>02db048aaab07793c2165c37b7539e79</td>\n      <td>149.167.134.218</td>\n      <td>[populate_cities_dropdown, search_horse, searc...</td>\n      <td>[0.0, 0.4, 0.0, 0.0, 0.0, 0.0, 0.2, 0.0, 0.0, ...</td>\n      <td>[0, 2, 0, 0, 0, 0, 1, 0, 0, 1, 1, 0]</td>\n    </tr>\n    <tr>\n      <th>1</th>\n      <td>072306ca06752fd860948de351af0420</td>\n      <td>149.167.134.218</td>\n      <td>[populate_cities_dropdown, search_horse, searc...</td>\n      <td>[0.1111111111111111, 0.2222222222222222, 0.111...</td>\n      <td>[1, 2, 1, 1, 0, 0, 1, 0, 0, 1, 1, 1]</td>\n    </tr>\n    <tr>\n      <th>2</th>\n      <td>079d831c61ec7fea769dbf1101ac88b8</td>\n      <td>149.167.134.218</td>\n      <td>[populate_cities_dropdown, search_horse, searc...</td>\n      <td>[0.0, 0.4, 0.0, 0.0, 0.2, 0.0, 0.0, 0.0, 0.0, ...</td>\n      <td>[0, 2, 0, 0, 1, 0, 0, 0, 0, 1, 1, 0]</td>\n    </tr>\n    <tr>\n      <th>3</th>\n      <td>07eaa3e7d914bee1a42eb0301ca65f09</td>\n      <td>220.244.53.30</td>\n      <td>[populate_cities_dropdown, search_horse, searc...</td>\n      <td>[0.0, 0.3333333333333333, 0.0, 0.0, 0.0, 0.0, ...</td>\n      <td>[0, 1, 0, 0, 0, 0, 1, 0, 0, 1, 0, 0]</td>\n    </tr>\n    <tr>\n      <th>4</th>\n      <td>082b18bb7c35d05b34a68ef964d176f8</td>\n      <td>149.167.134.218</td>\n      <td>[populate_cities_dropdown, search_horse, searc...</td>\n      <td>[0.07142857142857142, 0.35714285714285715, 0.0...</td>\n      <td>[4, 20, 3, 2, 1, 2, 11, 2, 4, 3, 3, 1]</td>\n    </tr>\n    <tr>\n      <th>...</th>\n      <td>...</td>\n      <td>...</td>\n      <td>...</td>\n      <td>...</td>\n      <td>...</td>\n    </tr>\n    <tr>\n      <th>201</th>\n      <td>f3f1c3a505b79a235fff50c88d666cf4</td>\n      <td>149.167.134.218</td>\n      <td>[populate_cities_dropdown, search_horse, searc...</td>\n      <td>[0.0, 0.25, 0.0, 0.0, 0.1875, 0.0, 0.1875, 0.1...</td>\n      <td>[0, 4, 0, 0, 3, 0, 3, 2, 2, 1, 1, 0]</td>\n    </tr>\n    <tr>\n      <th>202</th>\n      <td>f648c3416d0e80cceecbc8081ddb7e1a</td>\n      <td>149.167.134.218</td>\n      <td>[populate_cities_dropdown, search_horse, searc...</td>\n      <td>[0.34782608695652173, 0.17391304347826086, 0.2...</td>\n      <td>[8, 4, 5, 1, 1, 0, 1, 0, 0, 1, 1, 1]</td>\n    </tr>\n    <tr>\n      <th>203</th>\n      <td>f7d429ae114c4ff09d8476e0f8fe91c7</td>\n      <td>149.167.134.218</td>\n      <td>[populate_cities_dropdown, search_horse, searc...</td>\n      <td>[0.0, 0.2222222222222222, 0.0, 0.0, 0.33333333...</td>\n      <td>[0, 2, 0, 0, 3, 0, 0, 0, 2, 1, 1, 0]</td>\n    </tr>\n    <tr>\n      <th>204</th>\n      <td>f939175edf8f72a845a729c3bab39787</td>\n      <td>149.167.134.218</td>\n      <td>[populate_cities_dropdown, search_horse, searc...</td>\n      <td>[0.0, 0.25, 0.0, 0.0, 0.125, 0.0, 0.0, 0.0, 0....</td>\n      <td>[0, 2, 0, 0, 1, 0, 0, 0, 3, 1, 1, 0]</td>\n    </tr>\n    <tr>\n      <th>205</th>\n      <td>fd2628d14966362482b8ed11c0c643f2</td>\n      <td>149.167.134.218</td>\n      <td>[populate_cities_dropdown, search_horse, searc...</td>\n      <td>[0.35294117647058826, 0.23529411764705882, 0.2...</td>\n      <td>[6, 4, 4, 0, 0, 0, 0, 0, 0, 1, 1, 1]</td>\n    </tr>\n  </tbody>\n</table>\n<p>206 rows × 5 columns</p>\n</div>"
     },
     "metadata": {}
    }
   ],
   "execution_count": null
  },
  {
   "cell_type": "code",
   "source": "matching_df['prop_vector'] = matching_df['prop_vector'].apply(lambda x: np.asarray(x, dtype=float))\nmatching_df['n_vector'] = matching_df['n_vector'].apply(lambda x: np.asarray(x, dtype=float))\nclosest_clusters = [np.argmax(cosine_similarity(row['prop_vector'].reshape(1,-1), vec_means_df.to_numpy())) for i, row in matching_df.iterrows()]",
   "metadata": {
    "cell_id": "89a1218a57cb4f4290c19eae8c804911",
    "tags": [],
    "deepnote_to_be_reexecuted": false,
    "source_hash": "f801c507",
    "execution_start": 1648263882506,
    "execution_millis": 0,
    "deepnote_app_coordinates": {
     "x": 0,
     "y": 24,
     "w": 12,
     "h": 5
    },
    "deepnote_cell_type": "code",
    "deepnote_cell_height": 117
   },
   "outputs": [],
   "execution_count": null
  },
  {
   "cell_type": "code",
   "source": "matching_df['closest_cluster'] = closest_clusters",
   "metadata": {
    "cell_id": "366427dacfdc4e8681c11a7567764e40",
    "tags": [],
    "deepnote_to_be_reexecuted": false,
    "source_hash": "393e79d0",
    "execution_start": 1648263882507,
    "execution_millis": 0,
    "output_cleared": false,
    "deepnote_app_coordinates": {
     "x": 0,
     "y": 36,
     "w": 12,
     "h": 5
    },
    "deepnote_cell_type": "code",
    "deepnote_cell_height": 81
   },
   "outputs": [],
   "execution_count": null
  },
  {
   "cell_type": "code",
   "source": "\n\npopulation_df = _deepnote_execute_sql(\"\"\"select\n    av.session_id\n    , av.source_ip\n    , av.event_name_vector\n    , av.prop_vector\n    , av.n_vector\n    , cs.cluster_id\nfrom detect.array_vectors av\njoin detect.cluster_sessions cs\n    on av.session_id = cs.session_id\nwhere True\n\"\"\", 'SQL_52793694_A2B5_4D65_AC5F_FD0AE09C38F6')\npopulation_df",
   "metadata": {
    "tags": [],
    "deepnote_variable_name": "population_df",
    "sql_integration_id": "52793694-a2b5-4d65-ac5f-fd0ae09c38f6",
    "cell_id": "fc2940e9a9c2412797c8b8adfb6e1a17",
    "deepnote_to_be_reexecuted": false,
    "source_hash": "17fb098c",
    "execution_start": 1648263882507,
    "execution_millis": 4700,
    "deepnote_app_coordinates": {
     "x": 0,
     "y": 48,
     "w": 12,
     "h": 5
    },
    "deepnote_app_is_output_hidden": true,
    "deepnote_cell_type": "sql",
    "deepnote_sql_source": "select\n    av.session_id\n    , av.source_ip\n    , av.event_name_vector\n    , av.prop_vector\n    , av.n_vector\n    , cs.cluster_id\nfrom detect.array_vectors av\njoin detect.cluster_sessions cs\n    on av.session_id = cs.session_id\nwhere True",
    "deepnote_cell_height": 818
   },
   "outputs": [
    {
     "output_type": "execute_result",
     "execution_count": 7,
     "data": {
      "application/vnd.deepnote.dataframe.v3+json": {
       "column_count": 6,
       "row_count": 205,
       "columns": [
        {
         "name": "session_id",
         "dtype": "object",
         "stats": {
          "unique_count": 205,
          "nan_count": 0,
          "categories": [
           {
            "name": "02db048aaab07793c2165c37b7539e79",
            "count": 1
           },
           {
            "name": "072306ca06752fd860948de351af0420",
            "count": 1
           },
           {
            "name": "203 others",
            "count": 203
           }
          ]
         }
        },
        {
         "name": "source_ip",
         "dtype": "object",
         "stats": {
          "unique_count": 24,
          "nan_count": 0,
          "categories": [
           {
            "name": "149.167.134.218",
            "count": 156
           },
           {
            "name": "49.195.12.175",
            "count": 20
           },
           {
            "name": "22 others",
            "count": 29
           }
          ]
         }
        },
        {
         "name": "event_name_vector",
         "dtype": "object",
         "stats": {
          "unique_count": 205,
          "nan_count": 0,
          "categories": [
           {
            "name": "['populate_cities_dropdown', 'search_horse', 'search_race_info', 'search_race_result', 'show_classes', 'show_distances', 'show_earnings', 'show_places', 'show_start_gates', 'view_horses', 'view_index', 'view_races']",
            "count": 205
           }
          ]
         }
        },
        {
         "name": "prop_vector",
         "dtype": "object",
         "stats": {
          "unique_count": 205,
          "nan_count": 0,
          "categories": [
           {
            "name": "[0.0, 0.4, 0.0, 0.0, 0.0, 0.0, 0.2, 0.0, 0.0, 0.2, 0.2, 0.0]",
            "count": 4
           },
           {
            "name": "[0.0, 0.4, 0.0, 0.0, 0.2, 0.0, 0.0, 0.0, 0.0, 0.2, 0.2, 0.0]",
            "count": 4
           },
           {
            "name": "168 others",
            "count": 197
           }
          ]
         }
        },
        {
         "name": "n_vector",
         "dtype": "object",
         "stats": {
          "unique_count": 205,
          "nan_count": 0,
          "categories": [
           {
            "name": "[0, 2, 0, 0, 0, 0, 1, 0, 0, 1, 1, 0]",
            "count": 4
           },
           {
            "name": "[0, 2, 0, 0, 1, 0, 0, 0, 0, 1, 1, 0]",
            "count": 4
           },
           {
            "name": "169 others",
            "count": 197
           }
          ]
         }
        },
        {
         "name": "cluster_id",
         "dtype": "int64",
         "stats": {
          "unique_count": 6,
          "nan_count": 0,
          "min": "0",
          "max": "5",
          "histogram": [
           {
            "bin_start": 0,
            "bin_end": 0.5,
            "count": 6
           },
           {
            "bin_start": 0.5,
            "bin_end": 1,
            "count": 0
           },
           {
            "bin_start": 1,
            "bin_end": 1.5,
            "count": 65
           },
           {
            "bin_start": 1.5,
            "bin_end": 2,
            "count": 0
           },
           {
            "bin_start": 2,
            "bin_end": 2.5,
            "count": 4
           },
           {
            "bin_start": 2.5,
            "bin_end": 3,
            "count": 0
           },
           {
            "bin_start": 3,
            "bin_end": 3.5,
            "count": 95
           },
           {
            "bin_start": 3.5,
            "bin_end": 4,
            "count": 0
           },
           {
            "bin_start": 4,
            "bin_end": 4.5,
            "count": 4
           },
           {
            "bin_start": 4.5,
            "bin_end": 5,
            "count": 31
           }
          ]
         }
        },
        {
         "name": "_deepnote_index_column",
         "dtype": "int64"
        }
       ],
       "rows": [
        {
         "session_id": "02db048aaab07793c2165c37b7539e79",
         "source_ip": "149.167.134.218",
         "event_name_vector": "['populate_cities_dropdown', 'search_horse', 'search_race_info', 'search_race_result', 'show_classes', 'show_distances', 'show_earnings', 'show_places', 'show_start_gates', 'view_horses', 'view_index', 'view_races']",
         "prop_vector": "[0.0, 0.4, 0.0, 0.0, 0.0, 0.0, 0.2, 0.0, 0.0, 0.2, 0.2, 0.0]",
         "n_vector": "[0, 2, 0, 0, 0, 0, 1, 0, 0, 1, 1, 0]",
         "cluster_id": 3,
         "_deepnote_index_column": 0
        },
        {
         "session_id": "072306ca06752fd860948de351af0420",
         "source_ip": "149.167.134.218",
         "event_name_vector": "['populate_cities_dropdown', 'search_horse', 'search_race_info', 'search_race_result', 'show_classes', 'show_distances', 'show_earnings', 'show_places', 'show_start_gates', 'view_horses', 'view_index', 'view_races']",
         "prop_vector": "[0.1111111111111111, 0.2222222222222222, 0.1111111111111111, 0.1111111111111111, 0.0, 0.0, 0.1111111111111111, 0.0, 0.0, 0.1111111111111111, 0.1111111111111111, 0.1111111111111111]",
         "n_vector": "[1, 2, 1, 1, 0, 0, 1, 0, 0, 1, 1, 1]",
         "cluster_id": 5,
         "_deepnote_index_column": 1
        },
        {
         "session_id": "079d831c61ec7fea769dbf1101ac88b8",
         "source_ip": "149.167.134.218",
         "event_name_vector": "['populate_cities_dropdown', 'search_horse', 'search_race_info', 'search_race_result', 'show_classes', 'show_distances', 'show_earnings', 'show_places', 'show_start_gates', 'view_horses', 'view_index', 'view_races']",
         "prop_vector": "[0.0, 0.4, 0.0, 0.0, 0.2, 0.0, 0.0, 0.0, 0.0, 0.2, 0.2, 0.0]",
         "n_vector": "[0, 2, 0, 0, 1, 0, 0, 0, 0, 1, 1, 0]",
         "cluster_id": 3,
         "_deepnote_index_column": 2
        },
        {
         "session_id": "07eaa3e7d914bee1a42eb0301ca65f09",
         "source_ip": "220.244.53.30",
         "event_name_vector": "['populate_cities_dropdown', 'search_horse', 'search_race_info', 'search_race_result', 'show_classes', 'show_distances', 'show_earnings', 'show_places', 'show_start_gates', 'view_horses', 'view_index', 'view_races']",
         "prop_vector": "[0.0, 0.3333333333333333, 0.0, 0.0, 0.0, 0.0, 0.3333333333333333, 0.0, 0.0, 0.3333333333333333, 0.0, 0.0]",
         "n_vector": "[0, 1, 0, 0, 0, 0, 1, 0, 0, 1, 0, 0]",
         "cluster_id": 3,
         "_deepnote_index_column": 3
        },
        {
         "session_id": "082b18bb7c35d05b34a68ef964d176f8",
         "source_ip": "149.167.134.218",
         "event_name_vector": "['populate_cities_dropdown', 'search_horse', 'search_race_info', 'search_race_result', 'show_classes', 'show_distances', 'show_earnings', 'show_places', 'show_start_gates', 'view_horses', 'view_index', 'view_races']",
         "prop_vector": "[0.07142857142857142, 0.35714285714285715, 0.05357142857142857, 0.03571428571428571, 0.017857142857142856, 0.03571428571428571, 0.19642857142857142, 0.03571428571428571, 0.07142857142857142, 0.05357142857142857, 0.05357142857142857, 0.017857142857142856]",
         "n_vector": "[4, 20, 3, 2, 1, 2, 11, 2, 4, 3, 3, 1]",
         "cluster_id": 5,
         "_deepnote_index_column": 4
        },
        {
         "session_id": "096a9fb840e68409730028469979fc63",
         "source_ip": "203.206.185.203",
         "event_name_vector": "['populate_cities_dropdown', 'search_horse', 'search_race_info', 'search_race_result', 'show_classes', 'show_distances', 'show_earnings', 'show_places', 'show_start_gates', 'view_horses', 'view_index', 'view_races']",
         "prop_vector": "[0.25, 0.0, 0.25, 0.0, 0.0, 0.0, 0.0, 0.0, 0.0, 0.0, 0.25, 0.25]",
         "n_vector": "[1, 0, 1, 0, 0, 0, 0, 0, 0, 0, 1, 1]",
         "cluster_id": 1,
         "_deepnote_index_column": 5
        },
        {
         "session_id": "09e4caad701a5fd0e9a190233039cbc7",
         "source_ip": "49.195.7.190",
         "event_name_vector": "['populate_cities_dropdown', 'search_horse', 'search_race_info', 'search_race_result', 'show_classes', 'show_distances', 'show_earnings', 'show_places', 'show_start_gates', 'view_horses', 'view_index', 'view_races']",
         "prop_vector": "[0.0, 0.0, 0.0, 0.0, 0.0, 0.0, 0.0, 0.0, 0.0, 0.5, 0.5, 0.0]",
         "n_vector": "[0, 0, 0, 0, 0, 0, 0, 0, 0, 1, 1, 0]",
         "cluster_id": 0,
         "_deepnote_index_column": 6
        },
        {
         "session_id": "0a2a8915ab73734ef0f1e7e75516b421",
         "source_ip": "49.181.141.159",
         "event_name_vector": "['populate_cities_dropdown', 'search_horse', 'search_race_info', 'search_race_result', 'show_classes', 'show_distances', 'show_earnings', 'show_places', 'show_start_gates', 'view_horses', 'view_index', 'view_races']",
         "prop_vector": "[0.0, 0.6111111111111112, 0.0, 0.0, 0.05555555555555555, 0.05555555555555555, 0.05555555555555555, 0.05555555555555555, 0.05555555555555555, 0.05555555555555555, 0.05555555555555555, 0.0]",
         "n_vector": "[0, 11, 0, 0, 1, 1, 1, 1, 1, 1, 1, 0]",
         "cluster_id": 3,
         "_deepnote_index_column": 7
        },
        {
         "session_id": "0cb6225f8231cd1bb71523b570b6e4c9",
         "source_ip": "149.167.134.218",
         "event_name_vector": "['populate_cities_dropdown', 'search_horse', 'search_race_info', 'search_race_result', 'show_classes', 'show_distances', 'show_earnings', 'show_places', 'show_start_gates', 'view_horses', 'view_index', 'view_races']",
         "prop_vector": "[0.0, 0.0, 0.0, 0.0, 0.0, 0.0, 0.0, 0.0, 0.0, 0.0, 1.0, 0.0]",
         "n_vector": "[0, 0, 0, 0, 0, 0, 0, 0, 0, 0, 1, 0]",
         "cluster_id": 0,
         "_deepnote_index_column": 8
        },
        {
         "session_id": "0e7513cb9103f32e1d6ef7b90958726c",
         "source_ip": "149.167.134.218",
         "event_name_vector": "['populate_cities_dropdown', 'search_horse', 'search_race_info', 'search_race_result', 'show_classes', 'show_distances', 'show_earnings', 'show_places', 'show_start_gates', 'view_horses', 'view_index', 'view_races']",
         "prop_vector": "[0.3333333333333333, 0.0, 0.3333333333333333, 0.3333333333333333, 0.0, 0.0, 0.0, 0.0, 0.0, 0.0, 0.0, 0.0]",
         "n_vector": "[1, 0, 1, 1, 0, 0, 0, 0, 0, 0, 0, 0]",
         "cluster_id": 1,
         "_deepnote_index_column": 9
        }
       ]
      },
      "text/plain": "                           session_id        source_ip  \\\n0    02db048aaab07793c2165c37b7539e79  149.167.134.218   \n1    072306ca06752fd860948de351af0420  149.167.134.218   \n2    079d831c61ec7fea769dbf1101ac88b8  149.167.134.218   \n3    07eaa3e7d914bee1a42eb0301ca65f09    220.244.53.30   \n4    082b18bb7c35d05b34a68ef964d176f8  149.167.134.218   \n..                                ...              ...   \n200  f3f1c3a505b79a235fff50c88d666cf4  149.167.134.218   \n201  f648c3416d0e80cceecbc8081ddb7e1a  149.167.134.218   \n202  f7d429ae114c4ff09d8476e0f8fe91c7  149.167.134.218   \n203  f939175edf8f72a845a729c3bab39787  149.167.134.218   \n204  fd2628d14966362482b8ed11c0c643f2  149.167.134.218   \n\n                                     event_name_vector  \\\n0    [populate_cities_dropdown, search_horse, searc...   \n1    [populate_cities_dropdown, search_horse, searc...   \n2    [populate_cities_dropdown, search_horse, searc...   \n3    [populate_cities_dropdown, search_horse, searc...   \n4    [populate_cities_dropdown, search_horse, searc...   \n..                                                 ...   \n200  [populate_cities_dropdown, search_horse, searc...   \n201  [populate_cities_dropdown, search_horse, searc...   \n202  [populate_cities_dropdown, search_horse, searc...   \n203  [populate_cities_dropdown, search_horse, searc...   \n204  [populate_cities_dropdown, search_horse, searc...   \n\n                                           prop_vector  \\\n0    [0.0, 0.4, 0.0, 0.0, 0.0, 0.0, 0.2, 0.0, 0.0, ...   \n1    [0.1111111111111111, 0.2222222222222222, 0.111...   \n2    [0.0, 0.4, 0.0, 0.0, 0.2, 0.0, 0.0, 0.0, 0.0, ...   \n3    [0.0, 0.3333333333333333, 0.0, 0.0, 0.0, 0.0, ...   \n4    [0.07142857142857142, 0.35714285714285715, 0.0...   \n..                                                 ...   \n200  [0.0, 0.25, 0.0, 0.0, 0.1875, 0.0, 0.1875, 0.1...   \n201  [0.34782608695652173, 0.17391304347826086, 0.2...   \n202  [0.0, 0.2222222222222222, 0.0, 0.0, 0.33333333...   \n203  [0.0, 0.25, 0.0, 0.0, 0.125, 0.0, 0.0, 0.0, 0....   \n204  [0.35294117647058826, 0.23529411764705882, 0.2...   \n\n                                   n_vector  cluster_id  \n0      [0, 2, 0, 0, 0, 0, 1, 0, 0, 1, 1, 0]           3  \n1      [1, 2, 1, 1, 0, 0, 1, 0, 0, 1, 1, 1]           5  \n2      [0, 2, 0, 0, 1, 0, 0, 0, 0, 1, 1, 0]           3  \n3      [0, 1, 0, 0, 0, 0, 1, 0, 0, 1, 0, 0]           3  \n4    [4, 20, 3, 2, 1, 2, 11, 2, 4, 3, 3, 1]           5  \n..                                      ...         ...  \n200    [0, 4, 0, 0, 3, 0, 3, 2, 2, 1, 1, 0]           3  \n201    [8, 4, 5, 1, 1, 0, 1, 0, 0, 1, 1, 1]           1  \n202    [0, 2, 0, 0, 3, 0, 0, 0, 2, 1, 1, 0]           3  \n203    [0, 2, 0, 0, 1, 0, 0, 0, 3, 1, 1, 0]           3  \n204    [6, 4, 4, 0, 0, 0, 0, 0, 0, 1, 1, 1]           1  \n\n[205 rows x 6 columns]",
      "text/html": "<div>\n<style scoped>\n    .dataframe tbody tr th:only-of-type {\n        vertical-align: middle;\n    }\n\n    .dataframe tbody tr th {\n        vertical-align: top;\n    }\n\n    .dataframe thead th {\n        text-align: right;\n    }\n</style>\n<table border=\"1\" class=\"dataframe\">\n  <thead>\n    <tr style=\"text-align: right;\">\n      <th></th>\n      <th>session_id</th>\n      <th>source_ip</th>\n      <th>event_name_vector</th>\n      <th>prop_vector</th>\n      <th>n_vector</th>\n      <th>cluster_id</th>\n    </tr>\n  </thead>\n  <tbody>\n    <tr>\n      <th>0</th>\n      <td>02db048aaab07793c2165c37b7539e79</td>\n      <td>149.167.134.218</td>\n      <td>[populate_cities_dropdown, search_horse, searc...</td>\n      <td>[0.0, 0.4, 0.0, 0.0, 0.0, 0.0, 0.2, 0.0, 0.0, ...</td>\n      <td>[0, 2, 0, 0, 0, 0, 1, 0, 0, 1, 1, 0]</td>\n      <td>3</td>\n    </tr>\n    <tr>\n      <th>1</th>\n      <td>072306ca06752fd860948de351af0420</td>\n      <td>149.167.134.218</td>\n      <td>[populate_cities_dropdown, search_horse, searc...</td>\n      <td>[0.1111111111111111, 0.2222222222222222, 0.111...</td>\n      <td>[1, 2, 1, 1, 0, 0, 1, 0, 0, 1, 1, 1]</td>\n      <td>5</td>\n    </tr>\n    <tr>\n      <th>2</th>\n      <td>079d831c61ec7fea769dbf1101ac88b8</td>\n      <td>149.167.134.218</td>\n      <td>[populate_cities_dropdown, search_horse, searc...</td>\n      <td>[0.0, 0.4, 0.0, 0.0, 0.2, 0.0, 0.0, 0.0, 0.0, ...</td>\n      <td>[0, 2, 0, 0, 1, 0, 0, 0, 0, 1, 1, 0]</td>\n      <td>3</td>\n    </tr>\n    <tr>\n      <th>3</th>\n      <td>07eaa3e7d914bee1a42eb0301ca65f09</td>\n      <td>220.244.53.30</td>\n      <td>[populate_cities_dropdown, search_horse, searc...</td>\n      <td>[0.0, 0.3333333333333333, 0.0, 0.0, 0.0, 0.0, ...</td>\n      <td>[0, 1, 0, 0, 0, 0, 1, 0, 0, 1, 0, 0]</td>\n      <td>3</td>\n    </tr>\n    <tr>\n      <th>4</th>\n      <td>082b18bb7c35d05b34a68ef964d176f8</td>\n      <td>149.167.134.218</td>\n      <td>[populate_cities_dropdown, search_horse, searc...</td>\n      <td>[0.07142857142857142, 0.35714285714285715, 0.0...</td>\n      <td>[4, 20, 3, 2, 1, 2, 11, 2, 4, 3, 3, 1]</td>\n      <td>5</td>\n    </tr>\n    <tr>\n      <th>...</th>\n      <td>...</td>\n      <td>...</td>\n      <td>...</td>\n      <td>...</td>\n      <td>...</td>\n      <td>...</td>\n    </tr>\n    <tr>\n      <th>200</th>\n      <td>f3f1c3a505b79a235fff50c88d666cf4</td>\n      <td>149.167.134.218</td>\n      <td>[populate_cities_dropdown, search_horse, searc...</td>\n      <td>[0.0, 0.25, 0.0, 0.0, 0.1875, 0.0, 0.1875, 0.1...</td>\n      <td>[0, 4, 0, 0, 3, 0, 3, 2, 2, 1, 1, 0]</td>\n      <td>3</td>\n    </tr>\n    <tr>\n      <th>201</th>\n      <td>f648c3416d0e80cceecbc8081ddb7e1a</td>\n      <td>149.167.134.218</td>\n      <td>[populate_cities_dropdown, search_horse, searc...</td>\n      <td>[0.34782608695652173, 0.17391304347826086, 0.2...</td>\n      <td>[8, 4, 5, 1, 1, 0, 1, 0, 0, 1, 1, 1]</td>\n      <td>1</td>\n    </tr>\n    <tr>\n      <th>202</th>\n      <td>f7d429ae114c4ff09d8476e0f8fe91c7</td>\n      <td>149.167.134.218</td>\n      <td>[populate_cities_dropdown, search_horse, searc...</td>\n      <td>[0.0, 0.2222222222222222, 0.0, 0.0, 0.33333333...</td>\n      <td>[0, 2, 0, 0, 3, 0, 0, 0, 2, 1, 1, 0]</td>\n      <td>3</td>\n    </tr>\n    <tr>\n      <th>203</th>\n      <td>f939175edf8f72a845a729c3bab39787</td>\n      <td>149.167.134.218</td>\n      <td>[populate_cities_dropdown, search_horse, searc...</td>\n      <td>[0.0, 0.25, 0.0, 0.0, 0.125, 0.0, 0.0, 0.0, 0....</td>\n      <td>[0, 2, 0, 0, 1, 0, 0, 0, 3, 1, 1, 0]</td>\n      <td>3</td>\n    </tr>\n    <tr>\n      <th>204</th>\n      <td>fd2628d14966362482b8ed11c0c643f2</td>\n      <td>149.167.134.218</td>\n      <td>[populate_cities_dropdown, search_horse, searc...</td>\n      <td>[0.35294117647058826, 0.23529411764705882, 0.2...</td>\n      <td>[6, 4, 4, 0, 0, 0, 0, 0, 0, 1, 1, 1]</td>\n      <td>1</td>\n    </tr>\n  </tbody>\n</table>\n<p>205 rows × 6 columns</p>\n</div>"
     },
     "metadata": {}
    }
   ],
   "execution_count": null
  },
  {
   "cell_type": "code",
   "source": "population_df['prop_vector'] = population_df['prop_vector'].apply(lambda x: np.asarray(x, dtype=float))\npopulation_df['n_vector'] = population_df['n_vector'].apply(lambda x: np.asarray(x, dtype=float))",
   "metadata": {
    "cell_id": "6a8e520535a84b16a91159b9fdaf952e",
    "tags": [],
    "deepnote_to_be_reexecuted": false,
    "source_hash": "95cad85c",
    "execution_start": 1648263887252,
    "execution_millis": 0,
    "deepnote_app_coordinates": {
     "x": 0,
     "y": 66,
     "w": 12,
     "h": 5
    },
    "deepnote_cell_type": "code",
    "deepnote_cell_height": 99
   },
   "outputs": [],
   "execution_count": null
  },
  {
   "cell_type": "code",
   "source": "def cross_entropy(p, q):\n\treturn -sum([q[i]*log2(q[i]/p[i]) for i in range(len(q))]) \n\nentropies = []\nsimilarities = []\nseshes = []\n\nfor i, row in matching_df.iterrows():\n    # scaler = StandardScaler()\n    scaler = MinMaxScaler()\n    ci = row['closest_cluster']\n    temp = population_df.query(f'cluster_id == {ci}')\n    scaled_pop_n_vec = scaler.fit_transform(temp['n_vector'].tolist())\n    \n    entropies.append([cross_entropy(a+0.00000000001, row['prop_vector']+0.00000000001) for a in temp['prop_vector'].to_numpy()])    \n    similarities.append([euclidean(a.reshape(1,-1), scaler.transform(row['n_vector'].reshape(1,-1))) for a in scaled_pop_n_vec])\n    seshes.append(temp['session_id'].to_numpy())",
   "metadata": {
    "cell_id": "707229e39c094fd3a4472500d4458a34",
    "tags": [],
    "deepnote_to_be_reexecuted": false,
    "source_hash": "940f8255",
    "execution_start": 1648263887253,
    "execution_millis": 3610,
    "deepnote_app_coordinates": {
     "x": 0,
     "y": 42,
     "w": 12,
     "h": 5
    },
    "deepnote_cell_type": "code",
    "deepnote_cell_height": 369
   },
   "outputs": [],
   "execution_count": null
  },
  {
   "cell_type": "code",
   "source": "flat_entropies = [item for sublist in entropies for item in sublist]\nflat_similarities = [item for sublist in similarities for item in sublist]",
   "metadata": {
    "cell_id": "80f46cb6153d4b92ac72b3cec76d05cb",
    "tags": [],
    "deepnote_to_be_reexecuted": false,
    "source_hash": "caa4f845",
    "execution_start": 1648263890874,
    "execution_millis": 4,
    "deepnote_app_coordinates": {
     "x": 0,
     "y": 60,
     "w": 12,
     "h": 5
    },
    "deepnote_cell_type": "code",
    "deepnote_cell_height": 99
   },
   "outputs": [],
   "execution_count": null
  },
  {
   "cell_type": "code",
   "source": "plt.figure(figsize=(16,6))\nplt.subplot(1,2,1)\nplt.hist(flat_entropies, bins= 100)\nplt.title('Entropies histogram')\nplt.subplot(1,2,2)\nplt.hist(flat_similarities, bins= 100)\nplt.title('Similarities histogram')\nplt.show()",
   "metadata": {
    "cell_id": "29a2b11f6b884734ae5cc5c2121c585e",
    "tags": [],
    "deepnote_to_be_reexecuted": false,
    "source_hash": "b8576e40",
    "execution_start": 1648263890909,
    "execution_millis": 1105,
    "deepnote_app_coordinates": {
     "x": 0,
     "y": 72,
     "w": 12,
     "h": 5
    },
    "deepnote_cell_type": "code",
    "deepnote_cell_height": 562,
    "deepnote_output_heights": [
     339,
     344
    ]
   },
   "outputs": [
    {
     "data": {
      "text/plain": "<Figure size 1152x432 with 2 Axes>",
      "image/png": "[encoded data removed]"
     },
     "metadata": {
      "image/png": {
       "width": 950,
       "height": 394
      }
     },
     "output_type": "display_data"
    }
   ],
   "execution_count": null
  },
  {
   "cell_type": "code",
   "source": "plt.figure(figsize=(12,8))\nplt.scatter(flat_entropies, flat_similarities)\nplt.xlabel('entropies (0 is identical)')\nplt.ylabel('similarities (0 is identical)')\nplt.show()",
   "metadata": {
    "cell_id": "8f1b8c17e1864161901dadbb04d7bbd2",
    "tags": [],
    "deepnote_to_be_reexecuted": false,
    "source_hash": "177313d0",
    "execution_start": 1648263892061,
    "execution_millis": 466,
    "deepnote_app_coordinates": {
     "x": 0,
     "y": 84,
     "w": 12,
     "h": 5
    },
    "deepnote_cell_type": "code",
    "deepnote_cell_height": 674,
    "deepnote_output_heights": [
     505
    ]
   },
   "outputs": [
    {
     "data": {
      "text/plain": "<Figure size 864x576 with 1 Axes>",
      "image/png": "[encoded data removed]"
     },
     "metadata": {
      "image/png": {
       "width": 717,
       "height": 503
      }
     },
     "output_type": "display_data"
    }
   ],
   "execution_count": null
  },
  {
   "cell_type": "code",
   "source": "gmm = GaussianMixture(2, covariance_type='full', random_state=0)\nmod = gmm.fit_predict(list(zip(flat_entropies, flat_similarities)))",
   "metadata": {
    "cell_id": "fb256ab613e244c5a2737794e33e50c0",
    "tags": [],
    "deepnote_to_be_reexecuted": false,
    "source_hash": "300893d1",
    "execution_start": 1648263958582,
    "execution_millis": 117,
    "deepnote_app_coordinates": {
     "x": 0,
     "y": 6,
     "w": 12,
     "h": 5
    },
    "deepnote_cell_type": "code",
    "deepnote_cell_height": 99
   },
   "outputs": [],
   "execution_count": null
  },
  {
   "cell_type": "code",
   "source": "plt.figure(figsize=(12,8))\nplt.scatter(np.array(flat_entropies)[mod == 0], np.array(flat_similarities)[mod == 0], color='b')\nplt.scatter(np.array(flat_entropies)[mod == 1], np.array(flat_similarities)[mod == 1], color='r')\nplt.xlabel('entropies (0 is identical)')\nplt.ylabel('similarities (0 is identical)')\nplt.show()",
   "metadata": {
    "cell_id": "dba78ae9dd9c47fb87ea1cb59db75256",
    "tags": [],
    "deepnote_to_be_reexecuted": false,
    "source_hash": "a7f02aae",
    "execution_start": 1648263892831,
    "execution_millis": 365,
    "deepnote_app_coordinates": {
     "x": 0,
     "y": 78,
     "w": 12,
     "h": 5
    },
    "deepnote_cell_type": "code",
    "deepnote_cell_height": 692,
    "deepnote_output_heights": [
     505
    ]
   },
   "outputs": [
    {
     "data": {
      "text/plain": "<Figure size 864x576 with 1 Axes>",
      "image/png": "[encoded data removed]"
     },
     "metadata": {
      "image/png": {
       "width": 717,
       "height": 503
      }
     },
     "output_type": "display_data"
    }
   ],
   "execution_count": null
  },
  {
   "cell_type": "code",
   "source": "gmm.means_\ngmm.covariances_",
   "metadata": {
    "cell_id": "98b3465b75214c529542c747ece57334",
    "tags": [],
    "deepnote_to_be_reexecuted": false,
    "source_hash": "46b95a15",
    "execution_start": 1648264030201,
    "execution_millis": 9,
    "deepnote_app_coordinates": {
     "x": 0,
     "y": 90,
     "w": 12,
     "h": 5
    },
    "deepnote_cell_type": "code",
    "deepnote_cell_height": 212.9375,
    "deepnote_output_heights": [
     97.9375
    ]
   },
   "outputs": [
    {
     "output_type": "execute_result",
     "execution_count": 19,
     "data": {
      "text/plain": "array([[[8.12077454e+00, 4.00923838e-03],\n        [4.00923838e-03, 1.49182504e-01]],\n\n       [[2.94686617e+01, 6.71715881e-01],\n        [6.71715881e-01, 1.00389730e+00]]])"
     },
     "metadata": {}
    }
   ],
   "execution_count": null
  },
  {
   "cell_type": "code",
   "source": "",
   "metadata": {
    "cell_id": "d8981dd829a14fa7b952904e487ba472",
    "tags": [],
    "deepnote_app_coordinates": {
     "x": 0,
     "y": 96,
     "w": 12,
     "h": 5
    },
    "deepnote_cell_type": "code",
    "deepnote_cell_height": 66
   },
   "outputs": [],
   "execution_count": null
  },
  {
   "cell_type": "markdown",
   "source": "<a style='text-decoration:none;line-height:16px;display:flex;color:#5B5B62;padding:10px;justify-content:end;' href='https://deepnote.com?utm_source=created-in-deepnote-cell&projectId=26f60d54-40d9-464e-9cf2-413fca0d13e5' target=\"_blank\">\n<img alt='Created in deepnote.com' style='display:inline;max-height:16px;margin:0px;margin-right:7.5px;' src='data:image/svg+xml;base64,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' > </img>\nCreated in <span style='font-weight:600;margin-left:4px;'>Deepnote</span></a>",
   "metadata": {
    "tags": [],
    "created_in_deepnote_cell": true,
    "deepnote_cell_type": "markdown"
   }
  }
 ],
 "nbformat": 4,
 "nbformat_minor": 2,
 "metadata": {
  "orig_nbformat": 2,
  "deepnote": {
   "is_reactive": false
  },
  "deepnote_notebook_id": "7182cfc0-b1b9-4380-a444-1480eb96d140",
  "deepnote_app_layout": "article",
  "deepnote_execution_queue": []
 }
}