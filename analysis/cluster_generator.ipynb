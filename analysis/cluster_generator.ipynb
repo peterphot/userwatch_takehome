{
 "cells": [
  {
   "cell_type": "code",
   "metadata": {
    "cell_id": "6ee02927809e4e8ebd6cb0d1d7253cd5",
    "tags": [],
    "deepnote_to_be_reexecuted": false,
    "source_hash": "12c3a877",
    "execution_start": 1648339878540,
    "execution_millis": 5155,
    "deepnote_cell_type": "code",
    "deepnote_cell_height": 279
   },
   "source": "import pandas as pd\nimport numpy as np\nimport matplotlib.pyplot as plt\nimport matplotlib\nfrom sklearn.metrics.pairwise import cosine_similarity\nfrom sklearn.mixture import GaussianMixture\nfrom math import log2\nimport psycopg2\nimport os\n\nplt.style.use('https://gist.githubusercontent.com/peterphot/0d2645b0ced93c3cc71d31695ad1a5ae/raw/33cbe89d779b61ef5532272c5cdc0c1f2c56a357/matplotlibrc_dumbestwaytoconfigever')\nmatplotlib.rcParams['font.family'] = 'DejaVu Sans'",
   "outputs": [],
   "execution_count": null
  },
  {
   "cell_type": "code",
   "metadata": {
    "tags": [],
    "sql_integration_id": "52793694-a2b5-4d65-ac5f-fd0ae09c38f6",
    "cell_id": "3d8761f200ca43069426225c7fb9d602",
    "deepnote_to_be_reexecuted": false,
    "source_hash": "d727b5a5",
    "execution_start": 1648274954616,
    "execution_millis": 6891,
    "deepnote_sql_source": "select\n    *\nfrom detect.interaction_vectors\nwhere True",
    "deepnote_variable_name": "iv_df",
    "deepnote_cell_type": "sql",
    "deepnote_cell_height": 692
   },
   "source": "\n\niv_df = _deepnote_execute_sql(\"\"\"select\n    *\nfrom detect.interaction_vectors\nwhere True\n\"\"\", 'SQL_52793694_A2B5_4D65_AC5F_FD0AE09C38F6')\niv_df",
   "outputs": [
    {
     "output_type": "execute_result",
     "execution_count": 2,
     "data": {
      "application/vnd.deepnote.dataframe.v3+json": {
       "column_count": 8,
       "row_count": 2520,
       "columns": [
        {
         "name": "session_id",
         "dtype": "object",
         "stats": {
          "unique_count": 210,
          "nan_count": 0,
          "categories": [
           {
            "name": "02db048aaab07793c2165c37b7539e79",
            "count": 12
           },
           {
            "name": "072306ca06752fd860948de351af0420",
            "count": 12
           },
           {
            "name": "208 others",
            "count": 2496
           }
          ]
         }
        },
        {
         "name": "source_ip",
         "dtype": "object",
         "stats": {
          "unique_count": 24,
          "nan_count": 0,
          "categories": [
           {
            "name": "149.167.134.218",
            "count": 1872
           },
           {
            "name": "49.195.12.175",
            "count": 240
           },
           {
            "name": "22 others",
            "count": 408
           }
          ]
         }
        },
        {
         "name": "session_start_local_time",
         "dtype": "datetime64[ns]",
         "stats": {
          "unique_count": 210,
          "nan_count": 0,
          "min": "2022-03-20 19:20:02.338000",
          "max": "2022-03-26 16:18:44.646000",
          "histogram": [
           {
            "bin_start": 1647804002338000000,
            "bin_end": 1647854754568800000,
            "count": 36
           },
           {
            "bin_start": 1647854754568800000,
            "bin_end": 1647905506799599900,
            "count": 324
           },
           {
            "bin_start": 1647905506799599900,
            "bin_end": 1647956259030400000,
            "count": 168
           },
           {
            "bin_start": 1647956259030400000,
            "bin_end": 1648007011261200000,
            "count": 444
           },
           {
            "bin_start": 1648007011261200000,
            "bin_end": 1648057763492000000,
            "count": 648
           },
           {
            "bin_start": 1648057763492000000,
            "bin_end": 1648108515722800000,
            "count": 552
           },
           {
            "bin_start": 1648108515722800000,
            "bin_end": 1648159267953600000,
            "count": 240
           },
           {
            "bin_start": 1648159267953600000,
            "bin_end": 1648210020184400100,
            "count": 48
           },
           {
            "bin_start": 1648210020184400100,
            "bin_end": 1648260772415200000,
            "count": 12
           },
           {
            "bin_start": 1648260772415200000,
            "bin_end": 1648311524646000000,
            "count": 48
           }
          ]
         }
        },
        {
         "name": "doc_path",
         "dtype": "object",
         "stats": {
          "unique_count": 3,
          "nan_count": 0,
          "categories": [
           {
            "name": "/horses",
            "count": 1470
           },
           {
            "name": "/races",
            "count": 840
           },
           {
            "name": "/",
            "count": 210
           }
          ]
         }
        },
        {
         "name": "user_event",
         "dtype": "object",
         "stats": {
          "unique_count": 12,
          "nan_count": 0,
          "categories": [
           {
            "name": "view_index",
            "count": 210
           },
           {
            "name": "search_horse",
            "count": 210
           },
           {
            "name": "10 others",
            "count": 2100
           }
          ]
         }
        },
        {
         "name": "n",
         "dtype": "int64",
         "stats": {
          "unique_count": 15,
          "nan_count": 0,
          "min": "0",
          "max": "20",
          "histogram": [
           {
            "bin_start": 0,
            "bin_end": 2,
            "count": 1986
           },
           {
            "bin_start": 2,
            "bin_end": 4,
            "count": 350
           },
           {
            "bin_start": 4,
            "bin_end": 6,
            "count": 130
           },
           {
            "bin_start": 6,
            "bin_end": 8,
            "count": 33
           },
           {
            "bin_start": 8,
            "bin_end": 10,
            "count": 10
           },
           {
            "bin_start": 10,
            "bin_end": 12,
            "count": 5
           },
           {
            "bin_start": 12,
            "bin_end": 14,
            "count": 3
           },
           {
            "bin_start": 14,
            "bin_end": 16,
            "count": 1
           },
           {
            "bin_start": 16,
            "bin_end": 18,
            "count": 0
           },
           {
            "bin_start": 18,
            "bin_end": 20,
            "count": 2
           }
          ]
         }
        },
        {
         "name": "n_session_events",
         "dtype": "float64",
         "stats": {
          "unique_count": 32,
          "nan_count": 0,
          "min": "1.0",
          "max": "56.0",
          "histogram": [
           {
            "bin_start": 1,
            "bin_end": 6.5,
            "count": 684
           },
           {
            "bin_start": 6.5,
            "bin_end": 12,
            "count": 720
           },
           {
            "bin_start": 12,
            "bin_end": 17.5,
            "count": 660
           },
           {
            "bin_start": 17.5,
            "bin_end": 23,
            "count": 228
           },
           {
            "bin_start": 23,
            "bin_end": 28.5,
            "count": 108
           },
           {
            "bin_start": 28.5,
            "bin_end": 34,
            "count": 24
           },
           {
            "bin_start": 34,
            "bin_end": 39.5,
            "count": 72
           },
           {
            "bin_start": 39.5,
            "bin_end": 45,
            "count": 12
           },
           {
            "bin_start": 45,
            "bin_end": 50.5,
            "count": 0
           },
           {
            "bin_start": 50.5,
            "bin_end": 56,
            "count": 12
           }
          ]
         }
        },
        {
         "name": "prop_interaction",
         "dtype": "float64",
         "stats": {
          "unique_count": 109,
          "nan_count": 0,
          "min": "0.0",
          "max": "1.0",
          "histogram": [
           {
            "bin_start": 0,
            "bin_end": 0.1,
            "count": 1714
           },
           {
            "bin_start": 0.1,
            "bin_end": 0.2,
            "count": 422
           },
           {
            "bin_start": 0.2,
            "bin_end": 0.30000000000000004,
            "count": 239
           },
           {
            "bin_start": 0.30000000000000004,
            "bin_end": 0.4,
            "count": 93
           },
           {
            "bin_start": 0.4,
            "bin_end": 0.5,
            "count": 27
           },
           {
            "bin_start": 0.5,
            "bin_end": 0.6000000000000001,
            "count": 6
           },
           {
            "bin_start": 0.6000000000000001,
            "bin_end": 0.7000000000000001,
            "count": 2
           },
           {
            "bin_start": 0.7000000000000001,
            "bin_end": 0.8,
            "count": 0
           },
           {
            "bin_start": 0.8,
            "bin_end": 0.9,
            "count": 0
           },
           {
            "bin_start": 0.9,
            "bin_end": 1,
            "count": 17
           }
          ]
         }
        },
        {
         "name": "_deepnote_index_column",
         "dtype": "int64"
        }
       ],
       "rows": [
        {
         "session_id": "02db048aaab07793c2165c37b7539e79",
         "source_ip": "149.167.134.218",
         "session_start_local_time": "2022-03-23T20:06:14.793000",
         "doc_path": "/",
         "user_event": "view_index",
         "n": 1,
         "n_session_events": 5,
         "prop_interaction": 0.2,
         "_deepnote_index_column": 0
        },
        {
         "session_id": "02db048aaab07793c2165c37b7539e79",
         "source_ip": "149.167.134.218",
         "session_start_local_time": "2022-03-23T20:06:14.793000",
         "doc_path": "/horses",
         "user_event": "search_horse",
         "n": 2,
         "n_session_events": 5,
         "prop_interaction": 0.4,
         "_deepnote_index_column": 1
        },
        {
         "session_id": "02db048aaab07793c2165c37b7539e79",
         "source_ip": "149.167.134.218",
         "session_start_local_time": "2022-03-23T20:06:14.793000",
         "doc_path": "/horses",
         "user_event": "show_classes",
         "n": 0,
         "n_session_events": 5,
         "prop_interaction": 0,
         "_deepnote_index_column": 2
        },
        {
         "session_id": "02db048aaab07793c2165c37b7539e79",
         "source_ip": "149.167.134.218",
         "session_start_local_time": "2022-03-23T20:06:14.793000",
         "doc_path": "/horses",
         "user_event": "show_distances",
         "n": 0,
         "n_session_events": 5,
         "prop_interaction": 0,
         "_deepnote_index_column": 3
        },
        {
         "session_id": "02db048aaab07793c2165c37b7539e79",
         "source_ip": "149.167.134.218",
         "session_start_local_time": "2022-03-23T20:06:14.793000",
         "doc_path": "/horses",
         "user_event": "show_earnings",
         "n": 1,
         "n_session_events": 5,
         "prop_interaction": 0.2,
         "_deepnote_index_column": 4
        },
        {
         "session_id": "02db048aaab07793c2165c37b7539e79",
         "source_ip": "149.167.134.218",
         "session_start_local_time": "2022-03-23T20:06:14.793000",
         "doc_path": "/horses",
         "user_event": "show_places",
         "n": 0,
         "n_session_events": 5,
         "prop_interaction": 0,
         "_deepnote_index_column": 5
        },
        {
         "session_id": "02db048aaab07793c2165c37b7539e79",
         "source_ip": "149.167.134.218",
         "session_start_local_time": "2022-03-23T20:06:14.793000",
         "doc_path": "/horses",
         "user_event": "show_start_gates",
         "n": 0,
         "n_session_events": 5,
         "prop_interaction": 0,
         "_deepnote_index_column": 6
        },
        {
         "session_id": "02db048aaab07793c2165c37b7539e79",
         "source_ip": "149.167.134.218",
         "session_start_local_time": "2022-03-23T20:06:14.793000",
         "doc_path": "/horses",
         "user_event": "view_horses",
         "n": 1,
         "n_session_events": 5,
         "prop_interaction": 0.2,
         "_deepnote_index_column": 7
        },
        {
         "session_id": "02db048aaab07793c2165c37b7539e79",
         "source_ip": "149.167.134.218",
         "session_start_local_time": "2022-03-23T20:06:14.793000",
         "doc_path": "/races",
         "user_event": "populate_cities_dropdown",
         "n": 0,
         "n_session_events": 5,
         "prop_interaction": 0,
         "_deepnote_index_column": 8
        },
        {
         "session_id": "02db048aaab07793c2165c37b7539e79",
         "source_ip": "149.167.134.218",
         "session_start_local_time": "2022-03-23T20:06:14.793000",
         "doc_path": "/races",
         "user_event": "search_race_info",
         "n": 0,
         "n_session_events": 5,
         "prop_interaction": 0,
         "_deepnote_index_column": 9
        }
       ]
      },
      "text/plain": "                            session_id        source_ip  \\\n0     02db048aaab07793c2165c37b7539e79  149.167.134.218   \n1     02db048aaab07793c2165c37b7539e79  149.167.134.218   \n2     02db048aaab07793c2165c37b7539e79  149.167.134.218   \n3     02db048aaab07793c2165c37b7539e79  149.167.134.218   \n4     02db048aaab07793c2165c37b7539e79  149.167.134.218   \n...                                ...              ...   \n2515  ff15e3472f4cb464e317187694a3eb81  149.167.146.158   \n2516  ff15e3472f4cb464e317187694a3eb81  149.167.146.158   \n2517  ff15e3472f4cb464e317187694a3eb81  149.167.146.158   \n2518  ff15e3472f4cb464e317187694a3eb81  149.167.146.158   \n2519  ff15e3472f4cb464e317187694a3eb81  149.167.146.158   \n\n     session_start_local_time doc_path                user_event  n  \\\n0     2022-03-23 20:06:14.793        /                view_index  1   \n1     2022-03-23 20:06:14.793  /horses              search_horse  2   \n2     2022-03-23 20:06:14.793  /horses              show_classes  0   \n3     2022-03-23 20:06:14.793  /horses            show_distances  0   \n4     2022-03-23 20:06:14.793  /horses             show_earnings  1   \n...                       ...      ...                       ... ..   \n2515  2022-03-26 15:23:28.077  /horses               view_horses  0   \n2516  2022-03-26 15:23:28.077   /races  populate_cities_dropdown  0   \n2517  2022-03-26 15:23:28.077   /races          search_race_info  0   \n2518  2022-03-26 15:23:28.077   /races        search_race_result  0   \n2519  2022-03-26 15:23:28.077   /races                view_races  0   \n\n      n_session_events  prop_interaction  \n0                  5.0               0.2  \n1                  5.0               0.4  \n2                  5.0               0.0  \n3                  5.0               0.0  \n4                  5.0               0.2  \n...                ...               ...  \n2515               1.0               0.0  \n2516               1.0               0.0  \n2517               1.0               0.0  \n2518               1.0               0.0  \n2519               1.0               0.0  \n\n[2520 rows x 8 columns]",
      "text/html": "<div>\n<style scoped>\n    .dataframe tbody tr th:only-of-type {\n        vertical-align: middle;\n    }\n\n    .dataframe tbody tr th {\n        vertical-align: top;\n    }\n\n    .dataframe thead th {\n        text-align: right;\n    }\n</style>\n<table border=\"1\" class=\"dataframe\">\n  <thead>\n    <tr style=\"text-align: right;\">\n      <th></th>\n      <th>session_id</th>\n      <th>source_ip</th>\n      <th>session_start_local_time</th>\n      <th>doc_path</th>\n      <th>user_event</th>\n      <th>n</th>\n      <th>n_session_events</th>\n      <th>prop_interaction</th>\n    </tr>\n  </thead>\n  <tbody>\n    <tr>\n      <th>0</th>\n      <td>02db048aaab07793c2165c37b7539e79</td>\n      <td>149.167.134.218</td>\n      <td>2022-03-23 20:06:14.793</td>\n      <td>/</td>\n      <td>view_index</td>\n      <td>1</td>\n      <td>5.0</td>\n      <td>0.2</td>\n    </tr>\n    <tr>\n      <th>1</th>\n      <td>02db048aaab07793c2165c37b7539e79</td>\n      <td>149.167.134.218</td>\n      <td>2022-03-23 20:06:14.793</td>\n      <td>/horses</td>\n      <td>search_horse</td>\n      <td>2</td>\n      <td>5.0</td>\n      <td>0.4</td>\n    </tr>\n    <tr>\n      <th>2</th>\n      <td>02db048aaab07793c2165c37b7539e79</td>\n      <td>149.167.134.218</td>\n      <td>2022-03-23 20:06:14.793</td>\n      <td>/horses</td>\n      <td>show_classes</td>\n      <td>0</td>\n      <td>5.0</td>\n      <td>0.0</td>\n    </tr>\n    <tr>\n      <th>3</th>\n      <td>02db048aaab07793c2165c37b7539e79</td>\n      <td>149.167.134.218</td>\n      <td>2022-03-23 20:06:14.793</td>\n      <td>/horses</td>\n      <td>show_distances</td>\n      <td>0</td>\n      <td>5.0</td>\n      <td>0.0</td>\n    </tr>\n    <tr>\n      <th>4</th>\n      <td>02db048aaab07793c2165c37b7539e79</td>\n      <td>149.167.134.218</td>\n      <td>2022-03-23 20:06:14.793</td>\n      <td>/horses</td>\n      <td>show_earnings</td>\n      <td>1</td>\n      <td>5.0</td>\n      <td>0.2</td>\n    </tr>\n    <tr>\n      <th>...</th>\n      <td>...</td>\n      <td>...</td>\n      <td>...</td>\n      <td>...</td>\n      <td>...</td>\n      <td>...</td>\n      <td>...</td>\n      <td>...</td>\n    </tr>\n    <tr>\n      <th>2515</th>\n      <td>ff15e3472f4cb464e317187694a3eb81</td>\n      <td>149.167.146.158</td>\n      <td>2022-03-26 15:23:28.077</td>\n      <td>/horses</td>\n      <td>view_horses</td>\n      <td>0</td>\n      <td>1.0</td>\n      <td>0.0</td>\n    </tr>\n    <tr>\n      <th>2516</th>\n      <td>ff15e3472f4cb464e317187694a3eb81</td>\n      <td>149.167.146.158</td>\n      <td>2022-03-26 15:23:28.077</td>\n      <td>/races</td>\n      <td>populate_cities_dropdown</td>\n      <td>0</td>\n      <td>1.0</td>\n      <td>0.0</td>\n    </tr>\n    <tr>\n      <th>2517</th>\n      <td>ff15e3472f4cb464e317187694a3eb81</td>\n      <td>149.167.146.158</td>\n      <td>2022-03-26 15:23:28.077</td>\n      <td>/races</td>\n      <td>search_race_info</td>\n      <td>0</td>\n      <td>1.0</td>\n      <td>0.0</td>\n    </tr>\n    <tr>\n      <th>2518</th>\n      <td>ff15e3472f4cb464e317187694a3eb81</td>\n      <td>149.167.146.158</td>\n      <td>2022-03-26 15:23:28.077</td>\n      <td>/races</td>\n      <td>search_race_result</td>\n      <td>0</td>\n      <td>1.0</td>\n      <td>0.0</td>\n    </tr>\n    <tr>\n      <th>2519</th>\n      <td>ff15e3472f4cb464e317187694a3eb81</td>\n      <td>149.167.146.158</td>\n      <td>2022-03-26 15:23:28.077</td>\n      <td>/races</td>\n      <td>view_races</td>\n      <td>0</td>\n      <td>1.0</td>\n      <td>0.0</td>\n    </tr>\n  </tbody>\n</table>\n<p>2520 rows × 8 columns</p>\n</div>"
     },
     "metadata": {}
    }
   ],
   "execution_count": null
  },
  {
   "cell_type": "code",
   "metadata": {
    "cell_id": "804a520b62434f70be3c08e57ffda3df",
    "tags": [],
    "deepnote_to_be_reexecuted": false,
    "source_hash": "c78121e",
    "execution_start": 1648274961522,
    "execution_millis": 72,
    "deepnote_cell_type": "code",
    "deepnote_cell_height": 243
   },
   "source": "session_ids = []\nn_vec = np.empty((0,iv_df['user_event'].nunique()), float)\nprop_vec = np.empty((0,iv_df['user_event'].nunique()), float)\n\nfor su, row in iv_df.sort_values(by=['session_id', 'user_event']).groupby('session_id'):\n    session_ids.append(su)\n    n_vec = np.vstack((n_vec, row['n'].values))\n    prop_vec = np.vstack((prop_vec, row['prop_interaction'].values))\n\nordered_events_list = row['user_event'].tolist()    ",
   "outputs": [],
   "execution_count": null
  },
  {
   "cell_type": "code",
   "metadata": {
    "cell_id": "9038ef3538ba495ea8472c7a9d6b2bfe",
    "tags": [],
    "deepnote_to_be_reexecuted": false,
    "source_hash": "85c31e14",
    "execution_start": 1648274961602,
    "execution_millis": 5015,
    "deepnote_cell_type": "code",
    "deepnote_cell_height": 117
   },
   "source": "n_components = np.arange(1, 30)\nprop_models = [GaussianMixture(n, covariance_type='full', random_state=0).fit(prop_vec) for n in n_components]\ninter_models = [GaussianMixture(n, covariance_type='full', random_state=0).fit(n_vec) for n in n_components]",
   "outputs": [],
   "execution_count": null
  },
  {
   "cell_type": "code",
   "metadata": {
    "cell_id": "e7a6234a99de4ac19c05ea8bfb22ad52",
    "tags": [],
    "deepnote_to_be_reexecuted": false,
    "source_hash": "9ec665ac",
    "execution_start": 1648274966628,
    "execution_millis": 11,
    "deepnote_cell_type": "code",
    "deepnote_cell_height": 261
   },
   "source": "def plot_gmm_aicbics(ax, bics, aics, n_components, vec_name):\n    plt.plot(n_components, bics, label='BIC')\n    plt.plot(n_components, aics, label='AIC')\n    plt.axvline(1+bics.index(min(bics)), linestyle = ':', label='BIC min')\n    plt.text(1+bics.index(min(bics))+0.1, plt.gca().get_ylim()[-1]-300, str(bics.index(min(bics))))\n\n\n    ax.legend(loc='best')\n    ax.set_xlabel('n_components')\n    ax.set_ylabel('score')\n    ax.set_title(f'{vec_name} vectors')",
   "outputs": [],
   "execution_count": null
  },
  {
   "cell_type": "code",
   "metadata": {
    "cell_id": "4d9fd165731f4d70a618cad4052062b9",
    "tags": [],
    "deepnote_to_be_reexecuted": false,
    "source_hash": "3efbbd5a",
    "execution_start": 1648274966654,
    "execution_millis": 984,
    "deepnote_cell_type": "code",
    "deepnote_cell_height": 605,
    "deepnote_output_heights": [
     382
    ]
   },
   "source": "plt.figure(figsize=(16,12))\nbics = [m.bic(prop_vec) for m in prop_models]\naics = [m.aic(prop_vec) for m in prop_models]\nplot_gmm_aicbics(plt.subplot(2, 2, 1), bics, aics, n_components, 'proportional interaction')\n\nbics = [m.bic(n_vec) for m in inter_models]\naics = [m.aic(n_vec) for m in inter_models]\nplot_gmm_aicbics(plt.subplot(2, 2, 2), bics, aics, n_components, 'interaction')",
   "outputs": [
    {
     "data": {
      "text/plain": "<Figure size 1152x864 with 2 Axes>",
      "image/png": "[encoded data removed]"
     },
     "metadata": {
      "image/png": {
       "width": 990,
       "height": 380
      }
     },
     "output_type": "display_data"
    }
   ],
   "execution_count": null
  },
  {
   "cell_type": "code",
   "metadata": {
    "cell_id": "21778232c2df438095e793dad5e729cb",
    "tags": [],
    "deepnote_to_be_reexecuted": false,
    "source_hash": "fa75e8ec",
    "execution_start": 1648274967677,
    "execution_millis": 45,
    "deepnote_cell_type": "code",
    "deepnote_cell_height": 135
   },
   "source": "prop_mod = GaussianMixture(6, covariance_type='full', random_state=0).fit(prop_vec)\nvector_means = prop_mod.means_\npreds = prop_mod.predict(prop_vec)\nsession_groups = {i:np.array(session_ids)[preds == i] for i in range(max(preds)+1)}",
   "outputs": [],
   "execution_count": null
  },
  {
   "cell_type": "code",
   "metadata": {
    "cell_id": "604045dfe7f6486c803b99b7eb42c42e",
    "tags": [],
    "deepnote_to_be_reexecuted": false,
    "source_hash": "8e007c8e",
    "execution_start": 1648274967722,
    "execution_millis": 0,
    "deepnote_cell_type": "code",
    "deepnote_cell_height": 99
   },
   "source": "mean_vectors_df = pd.DataFrame(vector_means, columns=ordered_events_list)\nmean_vectors_df = mean_vectors_df.reset_index().rename(columns={'index':'cluster_id'})",
   "outputs": [],
   "execution_count": null
  },
  {
   "cell_type": "code",
   "metadata": {
    "cell_id": "7357dd521d45486d9f0565a55ddcbc18",
    "tags": [],
    "deepnote_to_be_reexecuted": false,
    "source_hash": "5a8656b1",
    "execution_start": 1648274967722,
    "execution_millis": 1975,
    "deepnote_cell_type": "code",
    "deepnote_cell_height": 364.1875
   },
   "source": "try:\n    conn = psycopg2.connect(\n        user=os.environ[\"RENDER_POSTGRES_USER\"],\n        password=os.environ[\"RENDER_POSTGRES_PASSWORD\"],\n        host=os.environ[\"RENDER_POSTGRES_HOST\"],\n        port=os.environ[\"RENDER_POSTGRES_PORT\"],\n        database=os.environ[\"RENDER_POSTGRES_DATABASE\"])\n\n    with conn.cursor() as cursor:\n        cursor.execute(\"SELECT version();\")\n        record = cursor.fetchone()\n        print(\"You are connected to - \", record)\n\nexcept (Exception, psycopg2.Error) as error:\n    print (\"Error while connecting to database\", error)",
   "outputs": [
    {
     "name": "stdout",
     "text": "You are connected to -  ('PostgreSQL 14.2 on x86_64-pc-linux-gnu, compiled by gcc (GCC) 4.8.5 20150623 (Red Hat 4.8.5-44), 64-bit',)\n",
     "output_type": "stream"
    }
   ],
   "execution_count": null
  },
  {
   "cell_type": "code",
   "metadata": {
    "cell_id": "76625a23a69c4d47a664236e06d753d3",
    "tags": [],
    "deepnote_to_be_reexecuted": false,
    "source_hash": "1d8ed78",
    "execution_start": 1648274969705,
    "execution_millis": 6,
    "deepnote_cell_type": "code",
    "deepnote_cell_height": 441
   },
   "source": "def create_table(conn, query):\n    cursor = conn.cursor()\n    cursor.execute(query)\n    conn.commit()\n    cursor.close()\n\ndef df_to_postgres(conn, df, table):    \n    tuples = [tuple(x) for x in df.to_numpy()]\n    cols = ','.join(list(df.columns))\n    query  = \"INSERT INTO %s(%s) VALUES(%s)\" % (table, cols, ','.join(['%s']*len(df.columns)))    \n    cursor = conn.cursor()\n    try:\n        cursor.executemany(query, tuples)\n        conn.commit()\n    except (Exception, psycopg2.DatabaseError) as error:\n        print(\"Error: %s\" % error)\n        conn.rollback()\n        cursor.close()\n        return 1\n    print(\"write done\")\n    cursor.close()",
   "outputs": [],
   "execution_count": null
  },
  {
   "cell_type": "code",
   "source": "vector_mean_create = \"\"\"DROP TABLE IF EXISTS detect.vector_means;\n                        CREATE TABLE IF NOT EXISTS detect.vector_means (\n                                cluster_id integer PRIMARY KEY\n                                , populate_cities_dropdown float\n                                , search_horse float\n                                , search_race_info float\n                                , search_race_result float\n                                , show_classes float\n                                , show_distances float\n                                , show_earnings float\n                                , show_places float\n                                , show_start_gates float\n                                , view_horses float\n                                , view_index float\n                                , view_races float\n);\"\"\"    \n\ncreate_table(conn, vector_mean_create)\ndf_to_postgres(conn, mean_vectors_df, 'detect.vector_means')",
   "metadata": {
    "cell_id": "912fc687996748b49d8c3b32f47766e4",
    "tags": [],
    "deepnote_to_be_reexecuted": false,
    "source_hash": "e720eaf3",
    "execution_start": 1648274969714,
    "execution_millis": 2350,
    "deepnote_cell_type": "code",
    "deepnote_cell_height": 436.1875
   },
   "outputs": [
    {
     "name": "stdout",
     "text": "write done\n",
     "output_type": "stream"
    }
   ],
   "execution_count": null
  },
  {
   "cell_type": "code",
   "source": "session_cluster_map = {'cluster_id':[], 'session_id':[]}\n\nfor k in session_groups:\n    session_cluster_map['cluster_id'].extend(len(session_groups[k])*[k])\n    session_cluster_map['session_id'].extend(session_groups[k])    ",
   "metadata": {
    "cell_id": "91d18b8169f346e082837f785d3f6510",
    "tags": [],
    "deepnote_to_be_reexecuted": false,
    "source_hash": "4be27fdb",
    "execution_start": 1648274972068,
    "execution_millis": 6,
    "deepnote_cell_type": "code",
    "deepnote_cell_height": 153
   },
   "outputs": [],
   "execution_count": null
  },
  {
   "cell_type": "code",
   "source": "# this is slow because I can not use copy_to due to how the hardware is set up on deepnote\ncluster_sessions_create = \"\"\"DROP TABLE IF EXISTS detect.cluster_sessions;\n                        CREATE TABLE IF NOT EXISTS detect.cluster_sessions (\n                                cluster_id integer\n                                , session_id varchar(40)                            \n);\"\"\"  \n\ncreate_table(conn, cluster_sessions_create)\ndf_to_postgres(conn, pd.DataFrame(session_cluster_map), 'detect.cluster_sessions')",
   "metadata": {
    "cell_id": "c623b70eab9d4698a9e32510db477070",
    "tags": [],
    "deepnote_to_be_reexecuted": false,
    "source_hash": "3201651c",
    "execution_start": 1648274972081,
    "execution_millis": 50287,
    "deepnote_cell_type": "code",
    "deepnote_cell_height": 256.1875
   },
   "outputs": [
    {
     "name": "stdout",
     "text": "write done\n",
     "output_type": "stream"
    }
   ],
   "execution_count": null
  },
  {
   "cell_type": "code",
   "source": "",
   "metadata": {
    "cell_id": "6504ffd8241941388261d9d8e5155993",
    "tags": [],
    "deepnote_to_be_reexecuted": false,
    "source_hash": "b623e53d",
    "execution_start": 1648275022154,
    "execution_millis": 1,
    "deepnote_cell_type": "code",
    "deepnote_cell_height": 81
   },
   "outputs": [],
   "execution_count": null
  },
  {
   "cell_type": "markdown",
   "source": "<a style='text-decoration:none;line-height:16px;display:flex;color:#5B5B62;padding:10px;justify-content:end;' href='https://deepnote.com?utm_source=created-in-deepnote-cell&projectId=26f60d54-40d9-464e-9cf2-413fca0d13e5' target=\"_blank\">\n<img alt='Created in deepnote.com' style='display:inline;max-height:16px;margin:0px;margin-right:7.5px;' src='data:image/svg+xml;base64,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' > </img>\nCreated in <span style='font-weight:600;margin-left:4px;'>Deepnote</span></a>",
   "metadata": {
    "tags": [],
    "created_in_deepnote_cell": true,
    "deepnote_cell_type": "markdown"
   }
  }
 ],
 "nbformat": 4,
 "nbformat_minor": 2,
 "metadata": {
  "orig_nbformat": 2,
  "deepnote": {
   "is_reactive": false
  },
  "deepnote_notebook_id": "1a5984cf-20bb-4947-9467-5012cf6d6944",
  "deepnote_execution_queue": []
 }
}