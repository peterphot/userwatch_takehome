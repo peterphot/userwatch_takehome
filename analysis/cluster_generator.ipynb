{
 "cells": [
  {
   "cell_type": "code",
   "metadata": {
    "cell_id": "6ee02927809e4e8ebd6cb0d1d7253cd5",
    "tags": [],
    "deepnote_to_be_reexecuted": false,
    "source_hash": "12c3a877",
    "execution_start": 1648175321755,
    "execution_millis": 794,
    "deepnote_cell_type": "code",
    "deepnote_cell_height": 279
   },
   "source": "import pandas as pd\nimport numpy as np\nimport matplotlib.pyplot as plt\nimport matplotlib\nfrom sklearn.metrics.pairwise import cosine_similarity\nfrom sklearn.mixture import GaussianMixture\nfrom math import log2\nimport psycopg2\nimport os\n\nplt.style.use('https://gist.githubusercontent.com/peterphot/0d2645b0ced93c3cc71d31695ad1a5ae/raw/33cbe89d779b61ef5532272c5cdc0c1f2c56a357/matplotlibrc_dumbestwaytoconfigever')\nmatplotlib.rcParams['font.family'] = 'DejaVu Sans'",
   "execution_count": 141,
   "outputs": []
  },
  {
   "cell_type": "code",
   "metadata": {
    "tags": [],
    "sql_integration_id": "52793694-a2b5-4d65-ac5f-fd0ae09c38f6",
    "cell_id": "3d8761f200ca43069426225c7fb9d602",
    "deepnote_to_be_reexecuted": false,
    "source_hash": "2fcd2af2",
    "execution_start": 1648172192056,
    "execution_millis": 5742,
    "deepnote_sql_source": "select\n    *\nfrom detect.interaction_vectors\nwhere True",
    "deepnote_variable_name": "iv_df",
    "deepnote_cell_type": "sql",
    "deepnote_cell_height": 692
   },
   "source": "\n\niv_df = _deepnote_execute_sql(\"\"\"select\n    *\nfrom detect.interaction_vectors\nwhere True\n\"\"\", 'SQL_52793694_A2B5_4D65_AC5F_FD0AE09C38F6')\niv_df",
   "execution_count": 3,
   "outputs": [
    {
     "output_type": "execute_result",
     "execution_count": 3,
     "data": {
      "application/vnd.deepnote.dataframe.v3+json": {
       "column_count": 7,
       "row_count": 2460,
       "columns": [
        {
         "name": "session_id",
         "dtype": "object",
         "stats": {
          "unique_count": 205,
          "nan_count": 0,
          "categories": [
           {
            "name": "02db048aaab07793c2165c37b7539e79",
            "count": 12
           },
           {
            "name": "072306ca06752fd860948de351af0420",
            "count": 12
           },
           {
            "name": "203 others",
            "count": 2436
           }
          ]
         }
        },
        {
         "name": "source_ip",
         "dtype": "object",
         "stats": {
          "unique_count": 24,
          "nan_count": 0,
          "categories": [
           {
            "name": "149.167.134.218",
            "count": 1872
           },
           {
            "name": "49.195.12.175",
            "count": 240
           },
           {
            "name": "22 others",
            "count": 348
           }
          ]
         }
        },
        {
         "name": "doc_path",
         "dtype": "object",
         "stats": {
          "unique_count": 3,
          "nan_count": 0,
          "categories": [
           {
            "name": "/horses",
            "count": 1435
           },
           {
            "name": "/races",
            "count": 820
           },
           {
            "name": "/",
            "count": 205
           }
          ]
         }
        },
        {
         "name": "user_event",
         "dtype": "object",
         "stats": {
          "unique_count": 12,
          "nan_count": 0,
          "categories": [
           {
            "name": "view_index",
            "count": 205
           },
           {
            "name": "search_horse",
            "count": 205
           },
           {
            "name": "10 others",
            "count": 2050
           }
          ]
         }
        },
        {
         "name": "n",
         "dtype": "int64",
         "stats": {
          "unique_count": 15,
          "nan_count": 0,
          "min": "0",
          "max": "20",
          "histogram": [
           {
            "bin_start": 0,
            "bin_end": 2,
            "count": 1929
           },
           {
            "bin_start": 2,
            "bin_end": 4,
            "count": 347
           },
           {
            "bin_start": 4,
            "bin_end": 6,
            "count": 130
           },
           {
            "bin_start": 6,
            "bin_end": 8,
            "count": 33
           },
           {
            "bin_start": 8,
            "bin_end": 10,
            "count": 10
           },
           {
            "bin_start": 10,
            "bin_end": 12,
            "count": 5
           },
           {
            "bin_start": 12,
            "bin_end": 14,
            "count": 3
           },
           {
            "bin_start": 14,
            "bin_end": 16,
            "count": 1
           },
           {
            "bin_start": 16,
            "bin_end": 18,
            "count": 0
           },
           {
            "bin_start": 18,
            "bin_end": 20,
            "count": 2
           }
          ]
         }
        },
        {
         "name": "n_session_events",
         "dtype": "float64",
         "stats": {
          "unique_count": 32,
          "nan_count": 0,
          "min": "1.0",
          "max": "56.0",
          "histogram": [
           {
            "bin_start": 1,
            "bin_end": 6.5,
            "count": 636
           },
           {
            "bin_start": 6.5,
            "bin_end": 12,
            "count": 720
           },
           {
            "bin_start": 12,
            "bin_end": 17.5,
            "count": 648
           },
           {
            "bin_start": 17.5,
            "bin_end": 23,
            "count": 228
           },
           {
            "bin_start": 23,
            "bin_end": 28.5,
            "count": 108
           },
           {
            "bin_start": 28.5,
            "bin_end": 34,
            "count": 24
           },
           {
            "bin_start": 34,
            "bin_end": 39.5,
            "count": 72
           },
           {
            "bin_start": 39.5,
            "bin_end": 45,
            "count": 12
           },
           {
            "bin_start": 45,
            "bin_end": 50.5,
            "count": 0
           },
           {
            "bin_start": 50.5,
            "bin_end": 56,
            "count": 12
           }
          ]
         }
        },
        {
         "name": "prop_interaction",
         "dtype": "float64",
         "stats": {
          "unique_count": 109,
          "nan_count": 0,
          "min": "0.0",
          "max": "1.0",
          "histogram": [
           {
            "bin_start": 0,
            "bin_end": 0.1,
            "count": 1660
           },
           {
            "bin_start": 0.1,
            "bin_end": 0.2,
            "count": 421
           },
           {
            "bin_start": 0.2,
            "bin_end": 0.30000000000000004,
            "count": 238
           },
           {
            "bin_start": 0.30000000000000004,
            "bin_end": 0.4,
            "count": 93
           },
           {
            "bin_start": 0.4,
            "bin_end": 0.5,
            "count": 27
           },
           {
            "bin_start": 0.5,
            "bin_end": 0.6000000000000001,
            "count": 6
           },
           {
            "bin_start": 0.6000000000000001,
            "bin_end": 0.7000000000000001,
            "count": 2
           },
           {
            "bin_start": 0.7000000000000001,
            "bin_end": 0.8,
            "count": 0
           },
           {
            "bin_start": 0.8,
            "bin_end": 0.9,
            "count": 0
           },
           {
            "bin_start": 0.9,
            "bin_end": 1,
            "count": 13
           }
          ]
         }
        },
        {
         "name": "_deepnote_index_column",
         "dtype": "int64"
        }
       ],
       "rows": [
        {
         "session_id": "02db048aaab07793c2165c37b7539e79",
         "source_ip": "149.167.134.218",
         "doc_path": "/",
         "user_event": "view_index",
         "n": 1,
         "n_session_events": 5,
         "prop_interaction": 0.2,
         "_deepnote_index_column": 0
        },
        {
         "session_id": "02db048aaab07793c2165c37b7539e79",
         "source_ip": "149.167.134.218",
         "doc_path": "/horses",
         "user_event": "search_horse",
         "n": 2,
         "n_session_events": 5,
         "prop_interaction": 0.4,
         "_deepnote_index_column": 1
        },
        {
         "session_id": "02db048aaab07793c2165c37b7539e79",
         "source_ip": "149.167.134.218",
         "doc_path": "/horses",
         "user_event": "show_classes",
         "n": 0,
         "n_session_events": 5,
         "prop_interaction": 0,
         "_deepnote_index_column": 2
        },
        {
         "session_id": "02db048aaab07793c2165c37b7539e79",
         "source_ip": "149.167.134.218",
         "doc_path": "/horses",
         "user_event": "show_distances",
         "n": 0,
         "n_session_events": 5,
         "prop_interaction": 0,
         "_deepnote_index_column": 3
        },
        {
         "session_id": "02db048aaab07793c2165c37b7539e79",
         "source_ip": "149.167.134.218",
         "doc_path": "/horses",
         "user_event": "show_earnings",
         "n": 1,
         "n_session_events": 5,
         "prop_interaction": 0.2,
         "_deepnote_index_column": 4
        },
        {
         "session_id": "02db048aaab07793c2165c37b7539e79",
         "source_ip": "149.167.134.218",
         "doc_path": "/horses",
         "user_event": "show_places",
         "n": 0,
         "n_session_events": 5,
         "prop_interaction": 0,
         "_deepnote_index_column": 5
        },
        {
         "session_id": "02db048aaab07793c2165c37b7539e79",
         "source_ip": "149.167.134.218",
         "doc_path": "/horses",
         "user_event": "show_start_gates",
         "n": 0,
         "n_session_events": 5,
         "prop_interaction": 0,
         "_deepnote_index_column": 6
        },
        {
         "session_id": "02db048aaab07793c2165c37b7539e79",
         "source_ip": "149.167.134.218",
         "doc_path": "/horses",
         "user_event": "view_horses",
         "n": 1,
         "n_session_events": 5,
         "prop_interaction": 0.2,
         "_deepnote_index_column": 7
        },
        {
         "session_id": "02db048aaab07793c2165c37b7539e79",
         "source_ip": "149.167.134.218",
         "doc_path": "/races",
         "user_event": "populate_cities_dropdown",
         "n": 0,
         "n_session_events": 5,
         "prop_interaction": 0,
         "_deepnote_index_column": 8
        },
        {
         "session_id": "02db048aaab07793c2165c37b7539e79",
         "source_ip": "149.167.134.218",
         "doc_path": "/races",
         "user_event": "search_race_info",
         "n": 0,
         "n_session_events": 5,
         "prop_interaction": 0,
         "_deepnote_index_column": 9
        }
       ]
      },
      "text/plain": "                            session_id        source_ip doc_path  \\\n0     02db048aaab07793c2165c37b7539e79  149.167.134.218        /   \n1     02db048aaab07793c2165c37b7539e79  149.167.134.218  /horses   \n2     02db048aaab07793c2165c37b7539e79  149.167.134.218  /horses   \n3     02db048aaab07793c2165c37b7539e79  149.167.134.218  /horses   \n4     02db048aaab07793c2165c37b7539e79  149.167.134.218  /horses   \n...                                ...              ...      ...   \n2455  fd2628d14966362482b8ed11c0c643f2  149.167.134.218  /horses   \n2456  fd2628d14966362482b8ed11c0c643f2  149.167.134.218   /races   \n2457  fd2628d14966362482b8ed11c0c643f2  149.167.134.218   /races   \n2458  fd2628d14966362482b8ed11c0c643f2  149.167.134.218   /races   \n2459  fd2628d14966362482b8ed11c0c643f2  149.167.134.218   /races   \n\n                    user_event  n  n_session_events  prop_interaction  \n0                   view_index  1               5.0          0.200000  \n1                 search_horse  2               5.0          0.400000  \n2                 show_classes  0               5.0          0.000000  \n3               show_distances  0               5.0          0.000000  \n4                show_earnings  1               5.0          0.200000  \n...                        ... ..               ...               ...  \n2455               view_horses  1              17.0          0.058824  \n2456  populate_cities_dropdown  6              17.0          0.352941  \n2457          search_race_info  4              17.0          0.235294  \n2458        search_race_result  0              17.0          0.000000  \n2459                view_races  1              17.0          0.058824  \n\n[2460 rows x 7 columns]",
      "text/html": "<div>\n<style scoped>\n    .dataframe tbody tr th:only-of-type {\n        vertical-align: middle;\n    }\n\n    .dataframe tbody tr th {\n        vertical-align: top;\n    }\n\n    .dataframe thead th {\n        text-align: right;\n    }\n</style>\n<table border=\"1\" class=\"dataframe\">\n  <thead>\n    <tr style=\"text-align: right;\">\n      <th></th>\n      <th>session_id</th>\n      <th>source_ip</th>\n      <th>doc_path</th>\n      <th>user_event</th>\n      <th>n</th>\n      <th>n_session_events</th>\n      <th>prop_interaction</th>\n    </tr>\n  </thead>\n  <tbody>\n    <tr>\n      <th>0</th>\n      <td>02db048aaab07793c2165c37b7539e79</td>\n      <td>149.167.134.218</td>\n      <td>/</td>\n      <td>view_index</td>\n      <td>1</td>\n      <td>5.0</td>\n      <td>0.200000</td>\n    </tr>\n    <tr>\n      <th>1</th>\n      <td>02db048aaab07793c2165c37b7539e79</td>\n      <td>149.167.134.218</td>\n      <td>/horses</td>\n      <td>search_horse</td>\n      <td>2</td>\n      <td>5.0</td>\n      <td>0.400000</td>\n    </tr>\n    <tr>\n      <th>2</th>\n      <td>02db048aaab07793c2165c37b7539e79</td>\n      <td>149.167.134.218</td>\n      <td>/horses</td>\n      <td>show_classes</td>\n      <td>0</td>\n      <td>5.0</td>\n      <td>0.000000</td>\n    </tr>\n    <tr>\n      <th>3</th>\n      <td>02db048aaab07793c2165c37b7539e79</td>\n      <td>149.167.134.218</td>\n      <td>/horses</td>\n      <td>show_distances</td>\n      <td>0</td>\n      <td>5.0</td>\n      <td>0.000000</td>\n    </tr>\n    <tr>\n      <th>4</th>\n      <td>02db048aaab07793c2165c37b7539e79</td>\n      <td>149.167.134.218</td>\n      <td>/horses</td>\n      <td>show_earnings</td>\n      <td>1</td>\n      <td>5.0</td>\n      <td>0.200000</td>\n    </tr>\n    <tr>\n      <th>...</th>\n      <td>...</td>\n      <td>...</td>\n      <td>...</td>\n      <td>...</td>\n      <td>...</td>\n      <td>...</td>\n      <td>...</td>\n    </tr>\n    <tr>\n      <th>2455</th>\n      <td>fd2628d14966362482b8ed11c0c643f2</td>\n      <td>149.167.134.218</td>\n      <td>/horses</td>\n      <td>view_horses</td>\n      <td>1</td>\n      <td>17.0</td>\n      <td>0.058824</td>\n    </tr>\n    <tr>\n      <th>2456</th>\n      <td>fd2628d14966362482b8ed11c0c643f2</td>\n      <td>149.167.134.218</td>\n      <td>/races</td>\n      <td>populate_cities_dropdown</td>\n      <td>6</td>\n      <td>17.0</td>\n      <td>0.352941</td>\n    </tr>\n    <tr>\n      <th>2457</th>\n      <td>fd2628d14966362482b8ed11c0c643f2</td>\n      <td>149.167.134.218</td>\n      <td>/races</td>\n      <td>search_race_info</td>\n      <td>4</td>\n      <td>17.0</td>\n      <td>0.235294</td>\n    </tr>\n    <tr>\n      <th>2458</th>\n      <td>fd2628d14966362482b8ed11c0c643f2</td>\n      <td>149.167.134.218</td>\n      <td>/races</td>\n      <td>search_race_result</td>\n      <td>0</td>\n      <td>17.0</td>\n      <td>0.000000</td>\n    </tr>\n    <tr>\n      <th>2459</th>\n      <td>fd2628d14966362482b8ed11c0c643f2</td>\n      <td>149.167.134.218</td>\n      <td>/races</td>\n      <td>view_races</td>\n      <td>1</td>\n      <td>17.0</td>\n      <td>0.058824</td>\n    </tr>\n  </tbody>\n</table>\n<p>2460 rows × 7 columns</p>\n</div>"
     },
     "metadata": {}
    }
   ]
  },
  {
   "cell_type": "code",
   "metadata": {
    "cell_id": "804a520b62434f70be3c08e57ffda3df",
    "tags": [],
    "deepnote_to_be_reexecuted": false,
    "source_hash": "c78121e",
    "execution_start": 1648174819963,
    "execution_millis": 15,
    "deepnote_cell_type": "code",
    "deepnote_cell_height": 243,
    "deepnote_output_heights": [
     21.1875
    ]
   },
   "source": "session_ids = []\nn_vec = np.empty((0,iv_df['user_event'].nunique()), float)\nprop_vec = np.empty((0,iv_df['user_event'].nunique()), float)\n\nfor su, row in iv_df.sort_values(by=['session_id', 'user_event']).groupby('session_id'):\n    session_ids.append(su)\n    n_vec = np.vstack((n_vec, row['n'].values))\n    prop_vec = np.vstack((prop_vec, row['prop_interaction'].values))\n\nordered_events_list = row['user_event'].tolist()    ",
   "execution_count": 119,
   "outputs": []
  },
  {
   "cell_type": "code",
   "metadata": {
    "cell_id": "9038ef3538ba495ea8472c7a9d6b2bfe",
    "tags": [],
    "deepnote_to_be_reexecuted": false,
    "source_hash": "85c31e14",
    "execution_start": 1648173480707,
    "execution_millis": 6166,
    "deepnote_cell_type": "code",
    "deepnote_cell_height": 117,
    "deepnote_output_heights": [
     279
    ]
   },
   "source": "n_components = np.arange(1, 30)\nprop_models = [GaussianMixture(n, covariance_type='full', random_state=0).fit(prop_vec) for n in n_components]\ninter_models = [GaussianMixture(n, covariance_type='full', random_state=0).fit(n_vec) for n in n_components]",
   "execution_count": 57,
   "outputs": []
  },
  {
   "cell_type": "code",
   "metadata": {
    "cell_id": "e7a6234a99de4ac19c05ea8bfb22ad52",
    "tags": [],
    "deepnote_to_be_reexecuted": false,
    "source_hash": "9ec665ac",
    "execution_start": 1648175259136,
    "execution_millis": 3,
    "deepnote_cell_type": "code",
    "deepnote_cell_height": 261,
    "deepnote_output_heights": [
     526,
     526
    ]
   },
   "source": "def plot_gmm_aicbics(ax, bics, aics, n_components, vec_name):\n    plt.plot(n_components, bics, label='BIC')\n    plt.plot(n_components, aics, label='AIC')\n    plt.axvline(1+bics.index(min(bics)), linestyle = ':', label='BIC min')\n    plt.text(1+bics.index(min(bics))+0.1, plt.gca().get_ylim()[-1]-300, str(bics.index(min(bics))))\n\n\n    ax.legend(loc='best')\n    ax.set_xlabel('n_components')\n    ax.set_ylabel('score')\n    ax.set_title(f'{vec_name} vectors')",
   "execution_count": 139,
   "outputs": []
  },
  {
   "cell_type": "code",
   "metadata": {
    "cell_id": "4d9fd165731f4d70a618cad4052062b9",
    "tags": [],
    "deepnote_to_be_reexecuted": false,
    "source_hash": "3efbbd5a",
    "execution_start": 1648175259626,
    "execution_millis": 688,
    "deepnote_cell_type": "code",
    "deepnote_cell_height": 605,
    "deepnote_output_heights": [
     382,
     149
    ]
   },
   "source": "plt.figure(figsize=(16,12))\nbics = [m.bic(prop_vec) for m in prop_models]\naics = [m.aic(prop_vec) for m in prop_models]\nplot_gmm_aicbics(plt.subplot(2, 2, 1), bics, aics, n_components, 'proportional interaction')\n\nbics = [m.bic(n_vec) for m in inter_models]\naics = [m.aic(n_vec) for m in inter_models]\nplot_gmm_aicbics(plt.subplot(2, 2, 2), bics, aics, n_components, 'interaction')",
   "execution_count": 140,
   "outputs": [
    {
     "data": {
      "text/plain": "<Figure size 1152x864 with 2 Axes>",
      "image/png": "[encoded data removed]"
     },
     "metadata": {
      "image/png": {
       "width": 990,
       "height": 380
      }
     },
     "output_type": "display_data"
    }
   ]
  },
  {
   "cell_type": "code",
   "metadata": {
    "cell_id": "21778232c2df438095e793dad5e729cb",
    "tags": [],
    "deepnote_to_be_reexecuted": false,
    "source_hash": "7d2d2e16",
    "execution_start": 1648174473676,
    "execution_millis": 22,
    "deepnote_cell_type": "code",
    "deepnote_cell_height": 135,
    "deepnote_output_heights": [
     21.1875
    ]
   },
   "source": "prop_mod = GaussianMixture(6, covariance_type='full', random_state=0).fit(prop_vec)\nvector_means = prop_mod.means_\npreds = prop_mod.predict(prop_vec)\nsession_groups = {i:np.array(session_ids)[preds == i] for i in range(max(preds))}",
   "execution_count": 100,
   "outputs": []
  },
  {
   "cell_type": "code",
   "metadata": {
    "cell_id": "604045dfe7f6486c803b99b7eb42c42e",
    "tags": [],
    "deepnote_to_be_reexecuted": false,
    "source_hash": "8e007c8e",
    "execution_start": 1648175117995,
    "execution_millis": 1,
    "deepnote_cell_type": "code",
    "deepnote_cell_height": 99,
    "deepnote_output_heights": [
     500.875
    ]
   },
   "source": "mean_vectors_df = pd.DataFrame(vector_means, columns=ordered_events_list)\nmean_vectors_df = mean_vectors_df.reset_index().rename(columns={'index':'cluster_id'})",
   "execution_count": 137,
   "outputs": []
  },
  {
   "cell_type": "code",
   "metadata": {
    "cell_id": "7357dd521d45486d9f0565a55ddcbc18",
    "tags": [],
    "deepnote_to_be_reexecuted": false,
    "source_hash": "5a8656b1",
    "execution_start": 1648175610849,
    "execution_millis": 1871,
    "deepnote_cell_type": "code",
    "deepnote_cell_height": 364.1875
   },
   "source": "try:\n    conn = psycopg2.connect(\n        user=os.environ[\"RENDER_POSTGRES_USER\"],\n        password=os.environ[\"RENDER_POSTGRES_PASSWORD\"],\n        host=os.environ[\"RENDER_POSTGRES_HOST\"],\n        port=os.environ[\"RENDER_POSTGRES_PORT\"],\n        database=os.environ[\"RENDER_POSTGRES_DATABASE\"])\n\n    with conn.cursor() as cursor:\n        cursor.execute(\"SELECT version();\")\n        record = cursor.fetchone()\n        print(\"You are connected to - \", record)\n\nexcept (Exception, psycopg2.Error) as error:\n    print (\"Error while connecting to database\", error)",
   "execution_count": 145,
   "outputs": [
    {
     "name": "stdout",
     "text": "You are connected to -  ('PostgreSQL 14.2 on x86_64-pc-linux-gnu, compiled by gcc (GCC) 4.8.5 20150623 (Red Hat 4.8.5-44), 64-bit',)\n",
     "output_type": "stream"
    }
   ]
  },
  {
   "cell_type": "code",
   "metadata": {
    "cell_id": "76625a23a69c4d47a664236e06d753d3",
    "tags": [],
    "deepnote_to_be_reexecuted": false,
    "source_hash": "2bb7896d",
    "execution_start": 1648176258279,
    "execution_millis": 2512,
    "deepnote_cell_type": "code",
    "deepnote_cell_height": 832.1875,
    "deepnote_output_heights": [
     21.1875,
     21.1875
    ]
   },
   "source": "def create_table(conn, query):\n    cursor = conn.cursor()\n    cursor.execute(query)\n    conn.commit()\n    cursor.close()\n\ndef df_to_postgres(conn, df, table):    \n    tuples = [tuple(x) for x in df.to_numpy()]\n    cols = ','.join(list(df.columns))\n    query  = \"INSERT INTO %s(%s) VALUES(%%s,%%s,%%s,%%s,%%s,%%s,%%s,%%s,%%s,%%s,%%s,%%s,%%s)\" % (table, cols)\n    cursor = conn.cursor()\n    try:\n        cursor.executemany(query, tuples)\n        conn.commit()\n    except (Exception, psycopg2.DatabaseError) as error:\n        print(\"Error: %s\" % error)\n        conn.rollback()\n        cursor.close()\n        return 1\n    print(\"write done\")\n    cursor.close()\n\nvector_mean_create = \"\"\"DROP TABLE IF EXISTS detect.vector_means;\n                        CREATE TABLE IF NOT EXISTS detect.vector_means (\n                                cluster_id integer PRIMARY KEY\n                                , populate_cities_dropdown float\n                                , search_horse float\n                                , search_race_info float\n                                , search_race_result float\n                                , show_classes float\n                                , show_distances float\n                                , show_earnings float\n                                , show_places float\n                                , show_start_gates float\n                                , view_horses float\n                                , view_index float\n                                , view_races float\n);\"\"\"    \n\ncreate_table(conn, vector_mean_create)\ndf_to_postgres(conn, mean_vectors_df, 'detect.vector_means')",
   "execution_count": 152,
   "outputs": [
    {
     "name": "stdout",
     "text": "write done\n",
     "output_type": "stream"
    }
   ]
  },
  {
   "cell_type": "code",
   "metadata": {
    "cell_id": "602327e460cc4343a832610d54efc5df",
    "tags": [],
    "deepnote_to_be_reexecuted": false,
    "source_hash": "5eb4a3ff",
    "execution_start": 1648174751854,
    "execution_millis": 18,
    "deepnote_cell_type": "code",
    "deepnote_cell_height": 432.1875,
    "deepnote_output_heights": [
     347.515625
    ]
   },
   "source": "\ndef cross_entropy(p, q):\n\treturn -sum([p[i]*log2(q[i]) for i in range(len(p))])\n\nsimilarities = []\nsimilarities2 = []\nentropies = []\ncos_sim = lambda a, b: np.dot(a, b)/(np.linalg.norm(a)*np.linalg.norm(b))\n\nfor i, row in vec_combos.groupby(['session_id_1', 'session_id_2']).size().reset_index().iterrows():\n    s1 = row['session_id_1']\n    s2 = row['session_id_2']\n    \n    t = vec_combos.query(f'session_id_1 == \"{s1}\" and session_id_2 == \"{s2}\"')\n    similarities2.append(cosine_similarity([t['n_1'].values], [t['n_2'].values])[0][0])\n    similarities.append(cos_sim(t['n_1'].values, t['n_2'].values))\n    entropies.append(cross_entropy(t['prop_interaction_1'].values + 0.00000000001, t['prop_interaction_2'].values + 0.00000000001))",
   "execution_count": 116,
   "outputs": [
    {
     "output_type": "error",
     "ename": "KeyError",
     "evalue": "'session_id_1'",
     "traceback": [
      "\u001b[0;31m---------------------------------------------------------------------------\u001b[0m",
      "\u001b[0;31mKeyError\u001b[0m                                  Traceback (most recent call last)",
      "\u001b[0;32m<ipython-input-116-25d334c99fe2>\u001b[0m in \u001b[0;36m<cell line: 9>\u001b[0;34m()\u001b[0m\n\u001b[1;32m      7\u001b[0m \u001b[0mcos_sim\u001b[0m \u001b[0;34m=\u001b[0m \u001b[0;32mlambda\u001b[0m \u001b[0ma\u001b[0m\u001b[0;34m,\u001b[0m \u001b[0mb\u001b[0m\u001b[0;34m:\u001b[0m \u001b[0mnp\u001b[0m\u001b[0;34m.\u001b[0m\u001b[0mdot\u001b[0m\u001b[0;34m(\u001b[0m\u001b[0ma\u001b[0m\u001b[0;34m,\u001b[0m \u001b[0mb\u001b[0m\u001b[0;34m)\u001b[0m\u001b[0;34m/\u001b[0m\u001b[0;34m(\u001b[0m\u001b[0mnp\u001b[0m\u001b[0;34m.\u001b[0m\u001b[0mlinalg\u001b[0m\u001b[0;34m.\u001b[0m\u001b[0mnorm\u001b[0m\u001b[0;34m(\u001b[0m\u001b[0ma\u001b[0m\u001b[0;34m)\u001b[0m\u001b[0;34m*\u001b[0m\u001b[0mnp\u001b[0m\u001b[0;34m.\u001b[0m\u001b[0mlinalg\u001b[0m\u001b[0;34m.\u001b[0m\u001b[0mnorm\u001b[0m\u001b[0;34m(\u001b[0m\u001b[0mb\u001b[0m\u001b[0;34m)\u001b[0m\u001b[0;34m)\u001b[0m\u001b[0;34m\u001b[0m\u001b[0;34m\u001b[0m\u001b[0m\n\u001b[1;32m      8\u001b[0m \u001b[0;34m\u001b[0m\u001b[0m\n\u001b[0;32m----> 9\u001b[0;31m \u001b[0;32mfor\u001b[0m \u001b[0mi\u001b[0m\u001b[0;34m,\u001b[0m \u001b[0mrow\u001b[0m \u001b[0;32min\u001b[0m \u001b[0mvec_combos\u001b[0m\u001b[0;34m.\u001b[0m\u001b[0mgroupby\u001b[0m\u001b[0;34m(\u001b[0m\u001b[0;34m[\u001b[0m\u001b[0;34m'session_id_1'\u001b[0m\u001b[0;34m,\u001b[0m \u001b[0;34m'session_id_2'\u001b[0m\u001b[0;34m]\u001b[0m\u001b[0;34m)\u001b[0m\u001b[0;34m.\u001b[0m\u001b[0msize\u001b[0m\u001b[0;34m(\u001b[0m\u001b[0;34m)\u001b[0m\u001b[0;34m.\u001b[0m\u001b[0mreset_index\u001b[0m\u001b[0;34m(\u001b[0m\u001b[0;34m)\u001b[0m\u001b[0;34m.\u001b[0m\u001b[0miterrows\u001b[0m\u001b[0;34m(\u001b[0m\u001b[0;34m)\u001b[0m\u001b[0;34m:\u001b[0m\u001b[0;34m\u001b[0m\u001b[0;34m\u001b[0m\u001b[0m\n\u001b[0m\u001b[1;32m     10\u001b[0m     \u001b[0ms1\u001b[0m \u001b[0;34m=\u001b[0m \u001b[0mrow\u001b[0m\u001b[0;34m[\u001b[0m\u001b[0;34m'session_id_1'\u001b[0m\u001b[0;34m]\u001b[0m\u001b[0;34m\u001b[0m\u001b[0;34m\u001b[0m\u001b[0m\n\u001b[1;32m     11\u001b[0m     \u001b[0ms2\u001b[0m \u001b[0;34m=\u001b[0m \u001b[0mrow\u001b[0m\u001b[0;34m[\u001b[0m\u001b[0;34m'session_id_2'\u001b[0m\u001b[0;34m]\u001b[0m\u001b[0;34m\u001b[0m\u001b[0;34m\u001b[0m\u001b[0m\n",
      "\u001b[0;32m/shared-libs/python3.9/py/lib/python3.9/site-packages/pandas/core/frame.py\u001b[0m in \u001b[0;36mgroupby\u001b[0;34m(self, by, axis, level, as_index, sort, group_keys, squeeze, observed, dropna)\u001b[0m\n\u001b[1;32m   6715\u001b[0m         \u001b[0maxis\u001b[0m \u001b[0;34m=\u001b[0m \u001b[0mself\u001b[0m\u001b[0;34m.\u001b[0m\u001b[0m_get_axis_number\u001b[0m\u001b[0;34m(\u001b[0m\u001b[0maxis\u001b[0m\u001b[0;34m)\u001b[0m\u001b[0;34m\u001b[0m\u001b[0;34m\u001b[0m\u001b[0m\n\u001b[1;32m   6716\u001b[0m \u001b[0;34m\u001b[0m\u001b[0m\n\u001b[0;32m-> 6717\u001b[0;31m         return DataFrameGroupBy(\n\u001b[0m\u001b[1;32m   6718\u001b[0m             \u001b[0mobj\u001b[0m\u001b[0;34m=\u001b[0m\u001b[0mself\u001b[0m\u001b[0;34m,\u001b[0m\u001b[0;34m\u001b[0m\u001b[0;34m\u001b[0m\u001b[0m\n\u001b[1;32m   6719\u001b[0m             \u001b[0mkeys\u001b[0m\u001b[0;34m=\u001b[0m\u001b[0mby\u001b[0m\u001b[0;34m,\u001b[0m\u001b[0;34m\u001b[0m\u001b[0;34m\u001b[0m\u001b[0m\n",
      "\u001b[0;32m/shared-libs/python3.9/py/lib/python3.9/site-packages/pandas/core/groupby/groupby.py\u001b[0m in \u001b[0;36m__init__\u001b[0;34m(self, obj, keys, axis, level, grouper, exclusions, selection, as_index, sort, group_keys, squeeze, observed, mutated, dropna)\u001b[0m\n\u001b[1;32m    558\u001b[0m             \u001b[0;32mfrom\u001b[0m \u001b[0mpandas\u001b[0m\u001b[0;34m.\u001b[0m\u001b[0mcore\u001b[0m\u001b[0;34m.\u001b[0m\u001b[0mgroupby\u001b[0m\u001b[0;34m.\u001b[0m\u001b[0mgrouper\u001b[0m \u001b[0;32mimport\u001b[0m \u001b[0mget_grouper\u001b[0m\u001b[0;34m\u001b[0m\u001b[0;34m\u001b[0m\u001b[0m\n\u001b[1;32m    559\u001b[0m \u001b[0;34m\u001b[0m\u001b[0m\n\u001b[0;32m--> 560\u001b[0;31m             grouper, exclusions, obj = get_grouper(\n\u001b[0m\u001b[1;32m    561\u001b[0m                 \u001b[0mobj\u001b[0m\u001b[0;34m,\u001b[0m\u001b[0;34m\u001b[0m\u001b[0;34m\u001b[0m\u001b[0m\n\u001b[1;32m    562\u001b[0m                 \u001b[0mkeys\u001b[0m\u001b[0;34m,\u001b[0m\u001b[0;34m\u001b[0m\u001b[0;34m\u001b[0m\u001b[0m\n",
      "\u001b[0;32m/shared-libs/python3.9/py/lib/python3.9/site-packages/pandas/core/groupby/grouper.py\u001b[0m in \u001b[0;36mget_grouper\u001b[0;34m(obj, key, axis, level, sort, observed, mutated, validate, dropna)\u001b[0m\n\u001b[1;32m    809\u001b[0m                 \u001b[0min_axis\u001b[0m\u001b[0;34m,\u001b[0m \u001b[0mname\u001b[0m\u001b[0;34m,\u001b[0m \u001b[0mlevel\u001b[0m\u001b[0;34m,\u001b[0m \u001b[0mgpr\u001b[0m \u001b[0;34m=\u001b[0m \u001b[0;32mFalse\u001b[0m\u001b[0;34m,\u001b[0m \u001b[0;32mNone\u001b[0m\u001b[0;34m,\u001b[0m \u001b[0mgpr\u001b[0m\u001b[0;34m,\u001b[0m \u001b[0;32mNone\u001b[0m\u001b[0;34m\u001b[0m\u001b[0;34m\u001b[0m\u001b[0m\n\u001b[1;32m    810\u001b[0m             \u001b[0;32melse\u001b[0m\u001b[0;34m:\u001b[0m\u001b[0;34m\u001b[0m\u001b[0;34m\u001b[0m\u001b[0m\n\u001b[0;32m--> 811\u001b[0;31m                 \u001b[0;32mraise\u001b[0m \u001b[0mKeyError\u001b[0m\u001b[0;34m(\u001b[0m\u001b[0mgpr\u001b[0m\u001b[0;34m)\u001b[0m\u001b[0;34m\u001b[0m\u001b[0;34m\u001b[0m\u001b[0m\n\u001b[0m\u001b[1;32m    812\u001b[0m         \u001b[0;32melif\u001b[0m \u001b[0misinstance\u001b[0m\u001b[0;34m(\u001b[0m\u001b[0mgpr\u001b[0m\u001b[0;34m,\u001b[0m \u001b[0mGrouper\u001b[0m\u001b[0;34m)\u001b[0m \u001b[0;32mand\u001b[0m \u001b[0mgpr\u001b[0m\u001b[0;34m.\u001b[0m\u001b[0mkey\u001b[0m \u001b[0;32mis\u001b[0m \u001b[0;32mnot\u001b[0m \u001b[0;32mNone\u001b[0m\u001b[0;34m:\u001b[0m\u001b[0;34m\u001b[0m\u001b[0;34m\u001b[0m\u001b[0m\n\u001b[1;32m    813\u001b[0m             \u001b[0;31m# Add key to exclusions\u001b[0m\u001b[0;34m\u001b[0m\u001b[0;34m\u001b[0m\u001b[0m\n",
      "\u001b[0;31mKeyError\u001b[0m: 'session_id_1'"
     ]
    }
   ]
  },
  {
   "cell_type": "code",
   "metadata": {
    "cell_id": "5466e20d51904d7f8ac52056cd57d7e9",
    "tags": [],
    "deepnote_to_be_reexecuted": false,
    "source_hash": "da6c4941",
    "execution_start": 1648034330456,
    "execution_millis": 294,
    "deepnote_cell_type": "code",
    "deepnote_cell_height": 453.1875,
    "deepnote_output_heights": [
     21.1875,
     250
    ]
   },
   "source": "plt.scatter(similarities, entropies)\n# ax = plt.gca()\n# ax.set_yscale('log')\n# ax.set_xscale('log')",
   "execution_count": null,
   "outputs": [
    {
     "output_type": "execute_result",
     "execution_count": 71,
     "data": {
      "text/plain": "<matplotlib.collections.PathCollection at 0x7fd92849f070>"
     },
     "metadata": {}
    },
    {
     "data": {
      "text/plain": "<Figure size 432x288 with 1 Axes>",
      "image/png": "[encoded data removed]"
     },
     "metadata": {
      "needs_background": "light",
      "image/png": {
       "width": 368,
       "height": 248
      }
     },
     "output_type": "display_data"
    }
   ]
  },
  {
   "cell_type": "code",
   "metadata": {
    "cell_id": "72ac2bd1cf7343e8bdb9c4ee771442db",
    "tags": [],
    "deepnote_to_be_reexecuted": false,
    "source_hash": "2a437a3c",
    "execution_start": 1648034329913,
    "execution_millis": 210,
    "deepnote_cell_type": "code",
    "deepnote_cell_height": 399.1875,
    "deepnote_output_heights": [
     21.1875,
     250
    ]
   },
   "source": "plt.scatter(similarities2, entropies)",
   "execution_count": null,
   "outputs": [
    {
     "output_type": "execute_result",
     "execution_count": 70,
     "data": {
      "text/plain": "<matplotlib.collections.PathCollection at 0x7fd92b08d910>"
     },
     "metadata": {}
    },
    {
     "data": {
      "text/plain": "<Figure size 432x288 with 1 Axes>",
      "image/png": "[encoded data removed]"
     },
     "metadata": {
      "needs_background": "light",
      "image/png": {
       "width": 368,
       "height": 248
      }
     },
     "output_type": "display_data"
    }
   ]
  },
  {
   "cell_type": "code",
   "metadata": {
    "cell_id": "fd66676dc2294751ab490fca3b3e1ce3",
    "tags": [],
    "deepnote_cell_type": "code",
    "deepnote_cell_height": 66
   },
   "source": "",
   "execution_count": null,
   "outputs": []
  },
  {
   "cell_type": "markdown",
   "source": "<a style='text-decoration:none;line-height:16px;display:flex;color:#5B5B62;padding:10px;justify-content:end;' href='https://deepnote.com?utm_source=created-in-deepnote-cell&projectId=26f60d54-40d9-464e-9cf2-413fca0d13e5' target=\"_blank\">\n<img alt='Created in deepnote.com' style='display:inline;max-height:16px;margin:0px;margin-right:7.5px;' src='data:image/svg+xml;base64,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' > </img>\nCreated in <span style='font-weight:600;margin-left:4px;'>Deepnote</span></a>",
   "metadata": {
    "tags": [],
    "created_in_deepnote_cell": true,
    "deepnote_cell_type": "markdown"
   }
  }
 ],
 "nbformat": 4,
 "nbformat_minor": 2,
 "metadata": {
  "orig_nbformat": 2,
  "deepnote": {
   "is_reactive": false
  },
  "deepnote_notebook_id": "1a5984cf-20bb-4947-9467-5012cf6d6944",
  "deepnote_execution_queue": []
 }
}