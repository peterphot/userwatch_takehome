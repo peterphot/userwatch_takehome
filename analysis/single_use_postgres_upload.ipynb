{
 "cells": [
  {
   "cell_type": "code",
   "execution_count": 219,
   "outputs": [],
   "source": [
    "import pandas as pd\n",
    "import psycopg2\n",
    "import os\n",
    "import plotly.express as px"
   ],
   "metadata": {
    "collapsed": false,
    "pycharm": {
     "name": "#%%\n"
    }
   }
  },
  {
   "cell_type": "code",
   "execution_count": null,
   "outputs": [],
   "source": [
    "horse_df = pd.read_csv('data/horse_db.csv')\n",
    "race_df = pd.read_csv('data/horse_race_data_db.csv')\n",
    "race_df2 = pd.read_csv('data/08_01_to_11_30_horse_race_data.csv')\n",
    "race_df3 = pd.read_csv('data/horse_race_data_db_before_08_01_21.csv')\n",
    "race_meta_df = pd.read_csv('data/race_db.csv')\n",
    "race_meta_df2 = pd.read_csv('data/08_01_to_11_30_race.csv')"
   ],
   "metadata": {
    "collapsed": false,
    "pycharm": {
     "name": "#%%\n"
    }
   }
  },
  {
   "cell_type": "code",
   "execution_count": 188,
   "outputs": [],
   "source": [
    "conn = psycopg2.connect(host='singapore-postgres.render.com', database='zed_0t9u', user='zed_user', password='eNgTnw7LHNPuFa23C89h5SqeGqlRlRTY')"
   ],
   "metadata": {
    "collapsed": false,
    "pycharm": {
     "name": "#%%\n"
    }
   }
  },
  {
   "cell_type": "code",
   "execution_count": null,
   "outputs": [],
   "source": [
    "def create_table(conn, query):\n",
    "    cursor = conn.cursor()\n",
    "    cursor.execute(query)\n",
    "    conn.commit()\n",
    "    cursor.close()"
   ],
   "metadata": {
    "collapsed": false,
    "pycharm": {
     "name": "#%%\n"
    }
   }
  },
  {
   "cell_type": "code",
   "execution_count": null,
   "outputs": [],
   "source": [
    "horse_make_table = \"\"\"CREATE TABLE IF NOT EXISTS horses (\n",
    "                        horse_id integer PRIMARY KEY\n",
    "                        , name varchar(250)\n",
    "                        , genotype varchar(5)\n",
    "                        , bloodline varchar(10)\n",
    "                        , breed_type varchar(10)\n",
    "                        , colour varchar(25)\n",
    "                        , super_coat varchar(2)\n",
    "                        , mother varchar(15)\n",
    "                        , father varchar(15)\n",
    "                        , horse_type varchar(10)\n",
    "                        , birthday varchar(25)\n",
    "                        , address varchar(50)\n",
    "                        , stable_name varchar(50)\n",
    ");\"\"\"\n",
    "race_make_table = \"\"\"CREATE TABLE IF NOT EXISTS races (\n",
    "                        race_id varchar(10)\n",
    "                        , horse_id float\n",
    "                        , fire integer\n",
    "                        , place integer\n",
    "                        , horse_time float\n",
    "                        , gate float\n",
    ");\"\"\"\n",
    "race_meta_make_table = \"\"\"CREATE TABLE IF NOT EXISTS races_info (\n",
    "                        race_id varchar(10)\n",
    "                        , start_time varchar(25)\n",
    "                        , name varchar(50)\n",
    "                        , event_type varchar(50)\n",
    "                        , distance float\n",
    "                        , class int\n",
    "                        , country varchar(25)\n",
    "                        , city varchar(30)\n",
    "                        , weather varchar(10)\n",
    "                        , fee float\n",
    "                        , prize_pool_first float\n",
    "                        , prize_pool_second float\n",
    "                        , prize_pool_third float\n",
    ");\"\"\""
   ],
   "metadata": {
    "collapsed": false,
    "pycharm": {
     "name": "#%%\n"
    }
   }
  },
  {
   "cell_type": "code",
   "execution_count": null,
   "outputs": [],
   "source": [
    "create_table(conn, horse_make_table)\n",
    "create_table(conn, race_make_table)\n",
    "create_table(conn, race_meta_make_table)"
   ],
   "metadata": {
    "collapsed": false,
    "pycharm": {
     "name": "#%%\n"
    }
   }
  },
  {
   "cell_type": "code",
   "execution_count": null,
   "outputs": [],
   "source": [
    "def csv_to_postgres(conn, csv_name, table):\n",
    "    f = open(csv_name, 'r')\n",
    "    cursor = conn.cursor()\n",
    "    try:\n",
    "        cursor.copy_from(f, table, sep=\",\")\n",
    "        conn.commit()\n",
    "    except (Exception, psycopg2.DatabaseError) as error:\n",
    "        print(\"Error: %s\" % error)\n",
    "        conn.rollback()\n",
    "        cursor.close()\n",
    "        return 1\n",
    "    print(f'{table} is done')\n",
    "    cursor.close()"
   ],
   "metadata": {
    "collapsed": false,
    "pycharm": {
     "name": "#%%\n"
    }
   }
  },
  {
   "cell_type": "code",
   "execution_count": null,
   "outputs": [],
   "source": [
    "horse_df['name'] = horse_df['name'].apply(lambda x: str(x).replace(',', ''))\n",
    "horse_df['stable_name'] = horse_df['stable_name'].apply(lambda x: str(x).replace(',', ''))"
   ],
   "metadata": {
    "collapsed": false,
    "pycharm": {
     "name": "#%%\n"
    }
   }
  },
  {
   "cell_type": "code",
   "execution_count": null,
   "outputs": [],
   "source": [
    "# horse_df.to_csv('data/horse_df_upload.csv', index=False, header=False)\n",
    "# race_df.drop(columns = ['odds']).dropna().to_csv('data/horse_race_data_db_upload.csv', index=False, header=False)\n",
    "race_df3['gate'] = race_df3['gate'].fillna(0)\n",
    "race_df3.drop(columns = ['odds']).dropna().to_csv('data/horse_race_data_db_upload3.csv', index=False, header=False)"
   ],
   "metadata": {
    "collapsed": false,
    "pycharm": {
     "name": "#%%\n"
    }
   }
  },
  {
   "cell_type": "code",
   "execution_count": 131,
   "outputs": [],
   "source": [
    "# race_meta_df['name'] = race_meta_df['name'].apply(lambda x: str(x).replace(',', ''))\n",
    "# race_meta_df['event_type'] = race_meta_df['event_type'].fillna('')\n",
    "# race_meta_df.to_csv('data/race_meta_df_upload.csv', index=False, header=False)\n",
    "\n",
    "race_meta_df2.insert(3, 'event_type', race_meta_df2.shape[0]*[''])\n",
    "race_meta_df2['name'] = race_meta_df2['name'].apply(lambda x: str(x).replace(',', ''))\n",
    "race_meta_df2['event_type'] = race_meta_df2['event_type'].fillna('')\n",
    "race_meta_df2.to_csv('data/race_meta_df_upload2.csv', index=False, header=False)"
   ],
   "metadata": {
    "collapsed": false,
    "pycharm": {
     "name": "#%%\n"
    }
   }
  },
  {
   "cell_type": "code",
   "execution_count": null,
   "outputs": [],
   "source": [
    "csv_to_postgres(conn, 'data/horse_df_upload.csv', 'horses')"
   ],
   "metadata": {
    "collapsed": false,
    "pycharm": {
     "name": "#%%\n"
    }
   }
  },
  {
   "cell_type": "code",
   "execution_count": null,
   "outputs": [],
   "source": [
    "csv_to_postgres(conn, 'data/horse_race_data_db_upload.csv', 'races')"
   ],
   "metadata": {
    "collapsed": false,
    "pycharm": {
     "name": "#%%\n"
    }
   }
  },
  {
   "cell_type": "code",
   "execution_count": null,
   "outputs": [],
   "source": [
    "csv_to_postgres(conn, 'data/race_meta_df_upload.csv', 'races_info')"
   ],
   "metadata": {
    "collapsed": false,
    "pycharm": {
     "name": "#%%\n"
    }
   }
  },
  {
   "cell_type": "code",
   "execution_count": 132,
   "outputs": [
    {
     "name": "stdout",
     "output_type": "stream",
     "text": [
      "races_info is done\n"
     ]
    }
   ],
   "source": [
    "csv_to_postgres(conn, 'data/race_meta_df_upload2.csv', 'races_info')"
   ],
   "metadata": {
    "collapsed": false,
    "pycharm": {
     "name": "#%%\n"
    }
   }
  },
  {
   "cell_type": "code",
   "execution_count": null,
   "outputs": [],
   "source": [
    "csv_to_postgres(conn, 'data/race_meta_df_upload2.csv', 'races_info')"
   ],
   "metadata": {
    "collapsed": false,
    "pycharm": {
     "name": "#%%\n"
    }
   }
  },
  {
   "cell_type": "code",
   "execution_count": null,
   "outputs": [],
   "source": [
    "csv_to_postgres(conn, 'data/horse_race_data_db_upload2.csv', 'races')"
   ],
   "metadata": {
    "collapsed": false,
    "pycharm": {
     "name": "#%%\n"
    }
   }
  },
  {
   "cell_type": "code",
   "execution_count": null,
   "outputs": [],
   "source": [
    "csv_to_postgres(conn, 'data/horse_race_data_db_upload3.csv', 'races')"
   ],
   "metadata": {
    "collapsed": false,
    "pycharm": {
     "name": "#%%\n"
    }
   }
  },
  {
   "cell_type": "code",
   "execution_count": null,
   "outputs": [],
   "source": [
    "conn.close()"
   ],
   "metadata": {
    "collapsed": false,
    "pycharm": {
     "name": "#%%\n"
    }
   }
  },
  {
   "cell_type": "code",
   "execution_count": 210,
   "outputs": [],
   "source": [
    "from flask import jsonify, Flask\n",
    "\n",
    "app = Flask(__name__)"
   ],
   "metadata": {
    "collapsed": false,
    "pycharm": {
     "name": "#%%\n"
    }
   }
  },
  {
   "cell_type": "code",
   "execution_count": 218,
   "outputs": [
    {
     "name": "stdout",
     "output_type": "stream",
     "text": [
      "<Response 18 bytes [200 OK]>\n"
     ]
    }
   ],
   "source": [
    "with app.app_context():\n",
    "    print(jsonify([{'a':1},{'b':1}]))"
   ],
   "metadata": {
    "collapsed": false,
    "pycharm": {
     "name": "#%%\n"
    }
   }
  },
  {
   "cell_type": "code",
   "execution_count": null,
   "outputs": [],
   "source": [],
   "metadata": {
    "collapsed": false,
    "pycharm": {
     "name": "#%%\n"
    }
   }
  }
 ],
 "metadata": {
  "kernelspec": {
   "display_name": "Python 3",
   "language": "python",
   "name": "python3"
  },
  "language_info": {
   "codemirror_mode": {
    "name": "ipython",
    "version": 2
   },
   "file_extension": ".py",
   "mimetype": "text/x-python",
   "name": "python",
   "nbconvert_exporter": "python",
   "pygments_lexer": "ipython2",
   "version": "2.7.6"
  }
 },
 "nbformat": 4,
 "nbformat_minor": 0
}