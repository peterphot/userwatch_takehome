{
 "cells": [
  {
   "cell_type": "code",
   "execution_count": 12,
   "metadata": {
    "collapsed": true
   },
   "outputs": [],
   "source": [
    "import pandas as pd\n",
    "import psycopg2"
   ]
  },
  {
   "cell_type": "code",
   "execution_count": 13,
   "outputs": [],
   "source": [
    "conn = psycopg2.connect(host='singapore-postgres.render.com', database='zed_0t9u', user='zed_user', password='eNgTnw7LHNPuFa23C89h5SqeGqlRlRTY')"
   ],
   "metadata": {
    "collapsed": false,
    "pycharm": {
     "name": "#%%\n"
    }
   }
  },
  {
   "cell_type": "code",
   "execution_count": 14,
   "outputs": [],
   "source": [
    "df = pd.read_sql_query('select * from jitsu_events', conn)"
   ],
   "metadata": {
    "collapsed": false,
    "pycharm": {
     "name": "#%%\n"
    }
   }
  },
  {
   "cell_type": "code",
   "execution_count": 10,
   "outputs": [
    {
     "data": {
      "text/plain": "                  _timestamp                                          api_key  \\\n0 2022-03-20 08:20:02.846273  js.3lwakud52uli2cyuksrxhu.utm0vuqu4l745r1esp1u2   \n1 2022-03-20 08:20:28.435346  js.3lwakud52uli2cyuksrxhu.utm0vuqu4l745r1esp1u2   \n2 2022-03-20 08:21:06.280490  js.3lwakud52uli2cyuksrxhu.utm0vuqu4l745r1esp1u2   \n3 2022-03-20 08:21:07.862204  js.3lwakud52uli2cyuksrxhu.utm0vuqu4l745r1esp1u2   \n4 2022-03-20 08:21:44.563529  js.3lwakud52uli2cyuksrxhu.utm0vuqu4l745r1esp1u2   \n\n  doc_encoding                      doc_host doc_path doc_search event_type  \\\n0        UTF-8  usrwtchtakehome.onrender.com        /              pageview   \n1        UTF-8  usrwtchtakehome.onrender.com        /              pageview   \n2        UTF-8  usrwtchtakehome.onrender.com        /              pageview   \n3        UTF-8  usrwtchtakehome.onrender.com        /              pageview   \n4        UTF-8  usrwtchtakehome.onrender.com        /              pageview   \n\n                    eventn_ctx_event_id  local_tz_offset location_city  ...  \\\n0  a4988c0d-3e95-4587-b34f-bd74b23a97f1           -660.0        Sydney  ...   \n1  96c6e6f8-438c-4b38-8be1-ac0ebc643ba9           -660.0        Sydney  ...   \n2  74e5ba58-e16b-48d6-b5a7-5c00c9a799d8           -660.0        Sydney  ...   \n3  e0e54218-cd4b-445d-b5d4-d710e2632b3c           -660.0        Sydney  ...   \n4  a2a7257e-199e-4ee3-b43e-f8509452eb79           -660.0        Sydney  ...   \n\n  params_horse_id params_country params_race_class  params_distance  \\\n0            None           None              None             None   \n1            None           None              None             None   \n2            None           None              None             None   \n3            None           None              None             None   \n4            None           None              None             None   \n\n   params_city params_race_id click_id_fbclid parsed_ua_device_brand  \\\n0         None           None            None                   None   \n1         None           None            None                   None   \n2         None           None            None                   None   \n3         None           None            None                   None   \n4         None           None            None                   None   \n\n  parsed_ua_device_family parsed_ua_device_model  \n0                    None                   None  \n1                    None                   None  \n2                    None                   None  \n3                    None                   None  \n4                    None                   None  \n\n[5 rows x 44 columns]",
      "text/html": "<div>\n<style scoped>\n    .dataframe tbody tr th:only-of-type {\n        vertical-align: middle;\n    }\n\n    .dataframe tbody tr th {\n        vertical-align: top;\n    }\n\n    .dataframe thead th {\n        text-align: right;\n    }\n</style>\n<table border=\"1\" class=\"dataframe\">\n  <thead>\n    <tr style=\"text-align: right;\">\n      <th></th>\n      <th>_timestamp</th>\n      <th>api_key</th>\n      <th>doc_encoding</th>\n      <th>doc_host</th>\n      <th>doc_path</th>\n      <th>doc_search</th>\n      <th>event_type</th>\n      <th>eventn_ctx_event_id</th>\n      <th>local_tz_offset</th>\n      <th>location_city</th>\n      <th>...</th>\n      <th>params_horse_id</th>\n      <th>params_country</th>\n      <th>params_race_class</th>\n      <th>params_distance</th>\n      <th>params_city</th>\n      <th>params_race_id</th>\n      <th>click_id_fbclid</th>\n      <th>parsed_ua_device_brand</th>\n      <th>parsed_ua_device_family</th>\n      <th>parsed_ua_device_model</th>\n    </tr>\n  </thead>\n  <tbody>\n    <tr>\n      <th>0</th>\n      <td>2022-03-20 08:20:02.846273</td>\n      <td>js.3lwakud52uli2cyuksrxhu.utm0vuqu4l745r1esp1u2</td>\n      <td>UTF-8</td>\n      <td>usrwtchtakehome.onrender.com</td>\n      <td>/</td>\n      <td></td>\n      <td>pageview</td>\n      <td>a4988c0d-3e95-4587-b34f-bd74b23a97f1</td>\n      <td>-660.0</td>\n      <td>Sydney</td>\n      <td>...</td>\n      <td>None</td>\n      <td>None</td>\n      <td>None</td>\n      <td>None</td>\n      <td>None</td>\n      <td>None</td>\n      <td>None</td>\n      <td>None</td>\n      <td>None</td>\n      <td>None</td>\n    </tr>\n    <tr>\n      <th>1</th>\n      <td>2022-03-20 08:20:28.435346</td>\n      <td>js.3lwakud52uli2cyuksrxhu.utm0vuqu4l745r1esp1u2</td>\n      <td>UTF-8</td>\n      <td>usrwtchtakehome.onrender.com</td>\n      <td>/</td>\n      <td></td>\n      <td>pageview</td>\n      <td>96c6e6f8-438c-4b38-8be1-ac0ebc643ba9</td>\n      <td>-660.0</td>\n      <td>Sydney</td>\n      <td>...</td>\n      <td>None</td>\n      <td>None</td>\n      <td>None</td>\n      <td>None</td>\n      <td>None</td>\n      <td>None</td>\n      <td>None</td>\n      <td>None</td>\n      <td>None</td>\n      <td>None</td>\n    </tr>\n    <tr>\n      <th>2</th>\n      <td>2022-03-20 08:21:06.280490</td>\n      <td>js.3lwakud52uli2cyuksrxhu.utm0vuqu4l745r1esp1u2</td>\n      <td>UTF-8</td>\n      <td>usrwtchtakehome.onrender.com</td>\n      <td>/</td>\n      <td></td>\n      <td>pageview</td>\n      <td>74e5ba58-e16b-48d6-b5a7-5c00c9a799d8</td>\n      <td>-660.0</td>\n      <td>Sydney</td>\n      <td>...</td>\n      <td>None</td>\n      <td>None</td>\n      <td>None</td>\n      <td>None</td>\n      <td>None</td>\n      <td>None</td>\n      <td>None</td>\n      <td>None</td>\n      <td>None</td>\n      <td>None</td>\n    </tr>\n    <tr>\n      <th>3</th>\n      <td>2022-03-20 08:21:07.862204</td>\n      <td>js.3lwakud52uli2cyuksrxhu.utm0vuqu4l745r1esp1u2</td>\n      <td>UTF-8</td>\n      <td>usrwtchtakehome.onrender.com</td>\n      <td>/</td>\n      <td></td>\n      <td>pageview</td>\n      <td>e0e54218-cd4b-445d-b5d4-d710e2632b3c</td>\n      <td>-660.0</td>\n      <td>Sydney</td>\n      <td>...</td>\n      <td>None</td>\n      <td>None</td>\n      <td>None</td>\n      <td>None</td>\n      <td>None</td>\n      <td>None</td>\n      <td>None</td>\n      <td>None</td>\n      <td>None</td>\n      <td>None</td>\n    </tr>\n    <tr>\n      <th>4</th>\n      <td>2022-03-20 08:21:44.563529</td>\n      <td>js.3lwakud52uli2cyuksrxhu.utm0vuqu4l745r1esp1u2</td>\n      <td>UTF-8</td>\n      <td>usrwtchtakehome.onrender.com</td>\n      <td>/</td>\n      <td></td>\n      <td>pageview</td>\n      <td>a2a7257e-199e-4ee3-b43e-f8509452eb79</td>\n      <td>-660.0</td>\n      <td>Sydney</td>\n      <td>...</td>\n      <td>None</td>\n      <td>None</td>\n      <td>None</td>\n      <td>None</td>\n      <td>None</td>\n      <td>None</td>\n      <td>None</td>\n      <td>None</td>\n      <td>None</td>\n      <td>None</td>\n    </tr>\n  </tbody>\n</table>\n<p>5 rows × 44 columns</p>\n</div>"
     },
     "execution_count": 10,
     "metadata": {},
     "output_type": "execute_result"
    }
   ],
   "source": [
    "df.head()"
   ],
   "metadata": {
    "collapsed": false,
    "pycharm": {
     "name": "#%%\n"
    }
   }
  },
  {
   "cell_type": "code",
   "execution_count": 15,
   "outputs": [
    {
     "data": {
      "text/plain": "Timestamp('2022-03-22 00:04:57.371050')"
     },
     "execution_count": 15,
     "metadata": {},
     "output_type": "execute_result"
    }
   ],
   "source": [
    "df['_timestamp'].max()"
   ],
   "metadata": {
    "collapsed": false,
    "pycharm": {
     "name": "#%%\n"
    }
   }
  },
  {
   "cell_type": "code",
   "execution_count": null,
   "outputs": [],
   "source": [],
   "metadata": {
    "collapsed": false,
    "pycharm": {
     "name": "#%%\n"
    }
   }
  }
 ],
 "metadata": {
  "kernelspec": {
   "display_name": "Python 3",
   "language": "python",
   "name": "python3"
  },
  "language_info": {
   "codemirror_mode": {
    "name": "ipython",
    "version": 2
   },
   "file_extension": ".py",
   "mimetype": "text/x-python",
   "name": "python",
   "nbconvert_exporter": "python",
   "pygments_lexer": "ipython2",
   "version": "2.7.6"
  }
 },
 "nbformat": 4,
 "nbformat_minor": 0
}