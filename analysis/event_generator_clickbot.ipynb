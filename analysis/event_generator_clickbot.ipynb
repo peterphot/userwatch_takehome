{
 "cells": [
  {
   "cell_type": "code",
   "metadata": {
    "collapsed": true,
    "cell_id": "36fe1a7b-aba9-4ba3-9650-00a9538d70c3",
    "deepnote_app_coordinates": {
     "x": 0,
     "y": null,
     "w": 12,
     "h": 5
    },
    "deepnote_cell_type": "code",
    "deepnote_cell_height": 174
   },
   "source": "from selenium import webdriver\nfrom selenium.webdriver.common.keys import Keys\nfrom selenium.webdriver.support.ui import Select\nfrom selenium.webdriver.chrome.options import Options\nimport numpy as np\nimport requests as re\nimport time",
   "execution_count": 1,
   "outputs": []
  },
  {
   "cell_type": "code",
   "metadata": {
    "collapsed": false,
    "pycharm": {
     "name": "#%%\n"
    },
    "cell_id": "00001-6a8f9450-9c91-40e4-afb0-7685bf0d334d",
    "deepnote_app_coordinates": {
     "x": 0,
     "y": 6,
     "w": 12,
     "h": 5
    },
    "deepnote_cell_type": "code",
    "deepnote_cell_height": 168.375
   },
   "source": "chrome_options = Options()\nchrome_options.add_argument(\"--headless\")\ndriver = webdriver.Chrome('./chromedriver', options=chrome_options)",
   "execution_count": 2,
   "outputs": [
    {
     "name": "stderr",
     "output_type": "stream",
     "text": "/var/folders/mr/pjjzz9nd583cq7jrp7gg9jvr0000gn/T/ipykernel_89624/74980914.py:3: DeprecationWarning: executable_path has been deprecated, please pass in a Service object\n  driver = webdriver.Chrome('./chromedriver', options=chrome_options)\n"
    }
   ]
  },
  {
   "cell_type": "code",
   "metadata": {
    "collapsed": false,
    "pycharm": {
     "name": "#%%\n"
    },
    "cell_id": "00002-2e89da97-deb4-4310-8a01-bdb57386cf8c",
    "deepnote_app_coordinates": {
     "x": 0,
     "y": 12,
     "w": 12,
     "h": 5
    },
    "deepnote_cell_type": "code",
    "deepnote_cell_height": 858
   },
   "source": "wait_time = 5\n\ndef view_page(driver, page_name):\n    urls = {'home':\"https://usrwtchtakehome.onrender.com/\",\n            'horses':\"https://usrwtchtakehome.onrender.com/horses\",\n            'races':\"https://usrwtchtakehome.onrender.com/races\"\n            }\n    driver.get(urls[page_name])\n    time.sleep(wait_time)\n\n\ndef search_input_field(driver, input_id, id):\n    # horse_id_field, race_id_field\n    search_field = driver.find_element(by='id', value=input_id)\n    search_field.clear()\n    search_field.send_keys(id)\n    search_field.send_keys(Keys.RETURN)\n    time.sleep(wait_time)\n\n\ndef click_button(driver, button_id):\n    # show_gate, show_place, show_class, show_distance, show_earnings, search_race, show_individual_race\n    button = driver.find_element(by='id', value=button_id)\n    button.click()\n    time.sleep(wait_time)\n\n\ndef get_country_options(driver):\n    country_dd = driver.find_element(by='id', value='country')\n    return [c.text for c in country_dd.find_elements_by_tag_name('option')]\n\n\ndef select_dropdown(driver, dd_id, selection=None):\n    # country, cities, class, distance\n    dd = driver.find_element(by='id', value=dd_id)\n    if selection is None:\n        selection = np.random.choice([c.text for c in dd.find_elements_by_tag_name('option')], 1)[0]\n    Select(dd).select_by_visible_text(selection)\n    time.sleep(wait_time)\n    return selection\n\n\ndef get_race_ids_from_dropdown_search(country, city='', race_class='', distance=''):\n    resp = re.post(f'https://usrwtchtakehome.onrender.com/search_race_info?country={country}&city={city}&class={race_class}&distance={distance}')\n    return resp.json()['data'][0]['cells']['values'][0]",
   "execution_count": 3,
   "outputs": []
  },
  {
   "cell_type": "code",
   "metadata": {
    "collapsed": false,
    "pycharm": {
     "name": "#%%\n"
    },
    "cell_id": "00003-2654b221-d08d-42df-bbdd-044fe5d4ce5c",
    "deepnote_app_coordinates": {
     "x": 0,
     "y": 18,
     "w": 12,
     "h": 5
    },
    "deepnote_cell_type": "code",
    "deepnote_cell_height": 696
   },
   "source": "def random_strategy_1(driver):\n    view_page(driver, 'home')\n    view_page(driver, 'horses')\n    for i in range(np.random.randint(1, np.random.randint(2, 5))):\n        search_input_field(driver, 'horse_id_field', int(np.random.choice(range(0, 358847), 1)[0]))\n        for i in range(np.random.randint(1, np.random.randint(3, 10))):\n            click_button(driver, np.random.choice(['show_gate', 'show_place', 'show_class', 'show_distance', 'show_earnings'], 1)[0])\n\n\ndef random_strategy_2(driver):\n    view_page(driver, 'home')\n    view_page(driver, 'horses')\n    for i in range(np.random.randint(1, 3)):\n        search_input_field(driver, 'horse_id_field', int(np.random.choice(range(0, 358847), 1)[0]))\n        for i in range(np.random.randint(0, 2)):\n            click_button(driver, np.random.choice(['show_gate', 'show_place', 'show_class', 'show_distance', 'show_earnings'], 1)[0])\n\n    view_page(driver, 'races')\n\n    for i in range(np.random.randint(1, 6)):\n        select_dropdown(driver, 'country')\n        query_fields = np.random.choice(['country', 'cities', 'class', 'distance'], np.random.randint(0, 5), False)\n        query_params = {}\n        for q in query_fields:\n            query_params[q] = select_dropdown(driver, q)\n        click_button(driver, 'search_race')\n\n        if np.random.rand() > 0.6:\n            search_param_getter = lambda d, k: '' if d.get(k) is None else d.get(k)\n            race_ids = get_race_ids_from_dropdown_search(search_param_getter(query_params, 'country')\n                                                     , city=search_param_getter(query_params, 'city')\n                                                     , race_class=search_param_getter(query_params, 'class')\n                                                     , distance=search_param_getter(query_params, 'distance'))\n            if len(race_ids) > 0:\n                search_input_field(driver, 'race_id_field', np.random.choice(race_ids, 1)[0])\n                click_button(driver, 'show_individual_race')",
   "execution_count": 4,
   "outputs": []
  },
  {
   "cell_type": "code",
   "metadata": {
    "collapsed": false,
    "pycharm": {
     "name": "#%%\n",
     "is_executing": true
    },
    "cell_id": "00004-b6127a86-cefa-45cb-b24b-44c1c84a3f7c",
    "deepnote_app_coordinates": {
     "x": 0,
     "y": 24,
     "w": 12,
     "h": 5
    },
    "deepnote_cell_type": "code",
    "deepnote_cell_height": 433.3125
   },
   "source": "for i in range(20):\n    if np.random.rand() >= 0.5:\n        print('strategy 1')\n        random_strategy_1(driver)\n    else:\n        print('strategy 2')\n        random_strategy_2(driver)\n\n    time.sleep(10*60)",
   "execution_count": null,
   "outputs": [
    {
     "name": "stdout",
     "output_type": "stream",
     "text": "strategy 1\nstrategy 1\nstrategy 2\n"
    },
    {
     "name": "stderr",
     "output_type": "stream",
     "text": "/usr/local/lib/python3.9/site-packages/selenium/webdriver/remote/webelement.py:359: UserWarning: find_elements_by_tag_name is deprecated. Please use find_elements(by=By.TAG_NAME, value=name) instead\n  warnings.warn(\"find_elements_by_tag_name is deprecated. Please use find_elements(by=By.TAG_NAME, value=name) instead\")\n"
    },
    {
     "name": "stdout",
     "output_type": "stream",
     "text": "strategy 1\nstrategy 2\n"
    }
   ]
  },
  {
   "cell_type": "code",
   "metadata": {
    "collapsed": false,
    "pycharm": {
     "name": "#%%\n",
     "is_executing": true
    },
    "cell_id": "00005-6ed9dccf-03d1-4020-9dae-f01f96fbae92",
    "deepnote_app_coordinates": {
     "x": 0,
     "y": 30,
     "w": 12,
     "h": 5
    },
    "deepnote_cell_type": "code",
    "deepnote_cell_height": 66
   },
   "source": "",
   "execution_count": null,
   "outputs": []
  },
  {
   "cell_type": "markdown",
   "source": "<a style='text-decoration:none;line-height:16px;display:flex;color:#5B5B62;padding:10px;justify-content:end;' href='https://deepnote.com?utm_source=created-in-deepnote-cell&projectId=26f60d54-40d9-464e-9cf2-413fca0d13e5' target=\"_blank\">\n<img alt='Created in deepnote.com' style='display:inline;max-height:16px;margin:0px;margin-right:7.5px;' src='data:image/svg+xml;base64,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' > </img>\nCreated in <span style='font-weight:600;margin-left:4px;'>Deepnote</span></a>",
   "metadata": {
    "tags": [],
    "created_in_deepnote_cell": true,
    "deepnote_cell_type": "markdown"
   }
  }
 ],
 "nbformat": 4,
 "nbformat_minor": 0,
 "metadata": {
  "kernelspec": {
   "display_name": "Python 3",
   "language": "python",
   "name": "python3"
  },
  "language_info": {
   "codemirror_mode": {
    "name": "ipython",
    "version": 2
   },
   "file_extension": ".py",
   "mimetype": "text/x-python",
   "name": "python",
   "nbconvert_exporter": "python",
   "pygments_lexer": "ipython2",
   "version": "2.7.6"
  },
  "deepnote_notebook_id": "31f28ab2-b3c4-47c8-a776-bcf69d512b72",
  "deepnote": {},
  "deepnote_app_layout": "article",
  "deepnote_execution_queue": []
 }
}