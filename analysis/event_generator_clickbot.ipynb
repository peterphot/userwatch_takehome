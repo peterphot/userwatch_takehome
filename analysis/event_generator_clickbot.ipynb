{
 "cells": [
  {
   "cell_type": "code",
   "metadata": {
    "collapsed": true,
    "cell_id": "36fe1a7b-aba9-4ba3-9650-00a9538d70c3",
    "deepnote_app_coordinates": {
     "x": 0,
     "y": null,
     "w": 12,
     "h": 5
    },
    "deepnote_cell_type": "code",
    "deepnote_cell_height": 174
   },
   "source": [
    "from selenium import webdriver\n",
    "from selenium.webdriver.common.keys import Keys\n",
    "from selenium.webdriver.support.ui import Select\n",
    "from selenium.webdriver.chrome.options import Options\n",
    "import numpy as np\n",
    "import requests as re\n",
    "import time"
   ],
   "execution_count": 1,
   "outputs": []
  },
  {
   "cell_type": "code",
   "metadata": {
    "collapsed": false,
    "pycharm": {
     "name": "#%%\n"
    },
    "cell_id": "00001-6a8f9450-9c91-40e4-afb0-7685bf0d334d",
    "deepnote_app_coordinates": {
     "x": 0,
     "y": 6,
     "w": 12,
     "h": 5
    },
    "deepnote_cell_type": "code",
    "deepnote_cell_height": 168.375
   },
   "source": [
    "chrome_options = Options()\n",
    "chrome_options.add_argument(\"--headless\")\n",
    "driver = webdriver.Chrome('./chromedriver', options=chrome_options)"
   ],
   "execution_count": 2,
   "outputs": [
    {
     "name": "stderr",
     "output_type": "stream",
     "text": "/var/folders/mr/pjjzz9nd583cq7jrp7gg9jvr0000gn/T/ipykernel_89624/74980914.py:3: DeprecationWarning: executable_path has been deprecated, please pass in a Service object\n  driver = webdriver.Chrome('./chromedriver', options=chrome_options)\n"
    }
   ]
  },
  {
   "cell_type": "code",
   "metadata": {
    "collapsed": false,
    "pycharm": {
     "name": "#%%\n"
    },
    "cell_id": "00002-2e89da97-deb4-4310-8a01-bdb57386cf8c",
    "deepnote_app_coordinates": {
     "x": 0,
     "y": 12,
     "w": 12,
     "h": 5
    },
    "deepnote_cell_type": "code",
    "deepnote_cell_height": 858
   },
   "source": [
    "wait_time = 5\n",
    "\n",
    "def view_page(driver: object, page_name: str) -> None:\n",
    "    urls = {'home':\"https://usrwtchtakehome.onrender.com/\",\n",
    "            'horses':\"https://usrwtchtakehome.onrender.com/horses\",\n",
    "            'races':\"https://usrwtchtakehome.onrender.com/races\"\n",
    "            }\n",
    "    driver.get(urls[page_name])\n",
    "    time.sleep(wait_time)\n",
    "\n",
    "\n",
    "def search_input_field(driver: object, input_id: str, id: int) -> None:\n",
    "    # horse_id_field, race_id_field\n",
    "    search_field = driver.find_element(by='id', value=input_id)\n",
    "    search_field.clear()\n",
    "    search_field.send_keys(id)\n",
    "    search_field.send_keys(Keys.RETURN)\n",
    "    time.sleep(wait_time)\n",
    "\n",
    "\n",
    "def click_button(driver: object, button_id: str) -> None:\n",
    "    # show_gate, show_place, show_class, show_distance, show_earnings, search_race, show_individual_race\n",
    "    button = driver.find_element(by='id', value=button_id)\n",
    "    button.click()\n",
    "    time.sleep(wait_time)\n",
    "\n",
    "\n",
    "def get_country_options(driver: object) -> list:\n",
    "    country_dd = driver.find_element(by='id', value='country')\n",
    "    return [c.text for c in country_dd.find_elements_by_tag_name('option')]\n",
    "\n",
    "\n",
    "def select_dropdown(driver: object, dd_id: str, selection=None) -> str:\n",
    "    # country, cities, class, distance\n",
    "    dd = driver.find_element(by='id', value=dd_id)\n",
    "    if selection is None:\n",
    "        selection = np.random.choice([c.text for c in dd.find_elements_by_tag_name('option')], 1)[0]\n",
    "    Select(dd).select_by_visible_text(selection)\n",
    "    time.sleep(wait_time)\n",
    "    return selection\n",
    "\n",
    "\n",
    "def get_race_ids_from_dropdown_search(country: str, city: str ='', race_class: str='', distance: str ='') -> list:\n",
    "    resp = re.post(f'https://usrwtchtakehome.onrender.com/search_race_info?country={country}&city={city}&class={race_class}&distance={distance}')\n",
    "    return resp.json()['data'][0]['cells']['values'][0]"
   ],
   "execution_count": 3,
   "outputs": []
  },
  {
   "cell_type": "code",
   "metadata": {
    "collapsed": false,
    "pycharm": {
     "name": "#%%\n"
    },
    "cell_id": "00003-2654b221-d08d-42df-bbdd-044fe5d4ce5c",
    "deepnote_app_coordinates": {
     "x": 0,
     "y": 18,
     "w": 12,
     "h": 5
    },
    "deepnote_cell_type": "code",
    "deepnote_cell_height": 696
   },
   "source": [
    "def random_strategy_1(driver: object) -> None:\n",
    "    view_page(driver, 'home')\n",
    "    view_page(driver, 'horses')\n",
    "    for i in range(np.random.randint(1, np.random.randint(2, 5))):\n",
    "        search_input_field(driver, 'horse_id_field', int(np.random.choice(range(0, 358847), 1)[0]))\n",
    "        for i in range(np.random.randint(1, np.random.randint(3, 10))):\n",
    "            click_button(driver, np.random.choice(['show_gate', 'show_place', 'show_class', 'show_distance', 'show_earnings'], 1)[0])\n",
    "\n",
    "\n",
    "def random_strategy_2(driver: object) -> None:\n",
    "    view_page(driver, 'home')\n",
    "    view_page(driver, 'horses')\n",
    "    for i in range(np.random.randint(1, 3)):\n",
    "        search_input_field(driver, 'horse_id_field', int(np.random.choice(range(0, 358847), 1)[0]))\n",
    "        for i in range(np.random.randint(0, 2)):\n",
    "            click_button(driver, np.random.choice(['show_gate', 'show_place', 'show_class', 'show_distance', 'show_earnings'], 1)[0])\n",
    "\n",
    "    view_page(driver, 'races')\n",
    "\n",
    "    for i in range(np.random.randint(1, 6)):\n",
    "        select_dropdown(driver, 'country')\n",
    "        query_fields = np.random.choice(['country', 'cities', 'class', 'distance'], np.random.randint(0, 5), False)\n",
    "        query_params = {}\n",
    "        for q in query_fields:\n",
    "            query_params[q] = select_dropdown(driver, q)\n",
    "        click_button(driver, 'search_race')\n",
    "\n",
    "        if np.random.rand() > 0.6:\n",
    "            search_param_getter = lambda d, k: '' if d.get(k) is None else d.get(k)\n",
    "            race_ids = get_race_ids_from_dropdown_search(search_param_getter(query_params, 'country')\n",
    "                                                     , city=search_param_getter(query_params, 'city')\n",
    "                                                     , race_class=search_param_getter(query_params, 'class')\n",
    "                                                     , distance=search_param_getter(query_params, 'distance'))\n",
    "            if len(race_ids) > 0:\n",
    "                search_input_field(driver, 'race_id_field', np.random.choice(race_ids, 1)[0])\n",
    "                click_button(driver, 'show_individual_race')"
   ],
   "execution_count": 4,
   "outputs": []
  },
  {
   "cell_type": "code",
   "metadata": {
    "collapsed": false,
    "pycharm": {
     "name": "#%%\n",
     "is_executing": true
    },
    "cell_id": "00004-b6127a86-cefa-45cb-b24b-44c1c84a3f7c",
    "deepnote_app_coordinates": {
     "x": 0,
     "y": 24,
     "w": 12,
     "h": 5
    },
    "deepnote_cell_type": "code",
    "deepnote_cell_height": 433.3125
   },
   "source": [
    "for i in range(20):\n",
    "    if np.random.rand() >= 0.5:\n",
    "        print('strategy 1')\n",
    "        random_strategy_1(driver)\n",
    "    else:\n",
    "        print('strategy 2')\n",
    "        random_strategy_2(driver)\n",
    "\n",
    "    time.sleep(10*60)"
   ],
   "execution_count": null,
   "outputs": [
    {
     "name": "stdout",
     "output_type": "stream",
     "text": "strategy 1\nstrategy 1\nstrategy 2\n"
    },
    {
     "name": "stderr",
     "output_type": "stream",
     "text": "/usr/local/lib/python3.9/site-packages/selenium/webdriver/remote/webelement.py:359: UserWarning: find_elements_by_tag_name is deprecated. Please use find_elements(by=By.TAG_NAME, value=name) instead\n  warnings.warn(\"find_elements_by_tag_name is deprecated. Please use find_elements(by=By.TAG_NAME, value=name) instead\")\n"
    },
    {
     "name": "stdout",
     "output_type": "stream",
     "text": "strategy 1\nstrategy 2\n"
    }
   ]
  }
 ],
 "nbformat": 4,
 "nbformat_minor": 0,
 "metadata": {
  "kernelspec": {
   "display_name": "Python 3",
   "language": "python",
   "name": "python3"
  },
  "language_info": {
   "codemirror_mode": {
    "name": "ipython",
    "version": 2
   },
   "file_extension": ".py",
   "mimetype": "text/x-python",
   "name": "python",
   "nbconvert_exporter": "python",
   "pygments_lexer": "ipython2",
   "version": "2.7.6"
  },
  "deepnote_notebook_id": "31f28ab2-b3c4-47c8-a776-bcf69d512b72",
  "deepnote": {},
  "deepnote_app_layout": "article",
  "deepnote_execution_queue": []
 }
}